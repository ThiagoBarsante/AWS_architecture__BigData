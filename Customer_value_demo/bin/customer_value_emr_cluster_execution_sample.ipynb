{
 "cells": [
  {
   "cell_type": "markdown",
   "id": "4765cfad",
   "metadata": {},
   "source": [
    "## EMR Cluster execution sample\n",
    "- Upload this notebook to EMR Notebooks\n",
    "- Set up Kernel as PySpark"
   ]
  },
  {
   "cell_type": "code",
   "execution_count": 1,
   "id": "254feb07",
   "metadata": {},
   "outputs": [
    {
     "data": {
      "application/vnd.jupyter.widget-view+json": {
       "model_id": "78ba28295c894c9cac989d03be7f9447",
       "version_major": 2,
       "version_minor": 0
      },
      "text/plain": [
       "VBox()"
      ]
     },
     "metadata": {},
     "output_type": "display_data"
    },
    {
     "name": "stdout",
     "output_type": "stream",
     "text": [
      "Starting Spark application\n"
     ]
    },
    {
     "data": {
      "text/html": [
       "<table>\n",
       "<tr><th>ID</th><th>YARN Application ID</th><th>Kind</th><th>State</th><th>Spark UI</th><th>Driver log</th><th>Current session?</th></tr><tr><td>0</td><td>application_1679779274242_0001</td><td>pyspark</td><td>idle</td><td><a target=\"_blank\" href=\"http://ip-172-31-20-113.us-east-2.compute.internal:20888/proxy/application_1679779274242_0001/\">Link</a></td><td><a target=\"_blank\" href=\"http://ip-172-31-20-113.us-east-2.compute.internal:8042/node/containerlogs/container_1679779274242_0001_01_000001/livy\">Link</a></td><td>✔</td></tr></table>"
      ],
      "text/plain": [
       "<IPython.core.display.HTML object>"
      ]
     },
     "metadata": {},
     "output_type": "display_data"
    },
    {
     "data": {
      "application/vnd.jupyter.widget-view+json": {
       "model_id": "",
       "version_major": 2,
       "version_minor": 0
      },
      "text/plain": [
       "FloatProgress(value=0.0, bar_style='info', description='Progress:', layout=Layout(height='25px', width='50%'),…"
      ]
     },
     "metadata": {},
     "output_type": "display_data"
    },
    {
     "name": "stdout",
     "output_type": "stream",
     "text": [
      "SparkSession available as 'spark'.\n"
     ]
    },
    {
     "data": {
      "application/vnd.jupyter.widget-view+json": {
       "model_id": "",
       "version_major": 2,
       "version_minor": 0
      },
      "text/plain": [
       "FloatProgress(value=0.0, bar_style='info', description='Progress:', layout=Layout(height='25px', width='50%'),…"
      ]
     },
     "metadata": {},
     "output_type": "display_data"
    }
   ],
   "source": [
    "## Info to run as Emr Serverless script export to python file and change EMR_SERVERLESS_EXECUTION to False\n",
    "## all input data must be executed as parameters with EMR Serverless\n",
    "import sys\n",
    "from datetime import datetime\n",
    "\n",
    "\n",
    "### EMR ServerLess Execution\n",
    "EMR_SERVERLESS_EXECUTION = False ## True for emr_serverless or False for Emr Cluster - Jupyter Notebook\n",
    "\n",
    "from pyspark.sql import SparkSession"
   ]
  },
  {
   "cell_type": "code",
   "execution_count": 2,
   "id": "6cde1107",
   "metadata": {},
   "outputs": [
    {
     "data": {
      "application/vnd.jupyter.widget-view+json": {
       "model_id": "45c8bd67f6b84e95bcc8e487390e0319",
       "version_major": 2,
       "version_minor": 0
      },
      "text/plain": [
       "VBox()"
      ]
     },
     "metadata": {},
     "output_type": "display_data"
    },
    {
     "data": {
      "application/vnd.jupyter.widget-view+json": {
       "model_id": "",
       "version_major": 2,
       "version_minor": 0
      },
      "text/plain": [
       "FloatProgress(value=0.0, bar_style='info', description='Progress:', layout=Layout(height='25px', width='50%'),…"
      ]
     },
     "metadata": {},
     "output_type": "display_data"
    },
    {
     "name": "stdout",
     "output_type": "stream",
     "text": [
      "'3.3.1-amzn-0'"
     ]
    }
   ],
   "source": [
    "spark.version"
   ]
  },
  {
   "cell_type": "code",
   "execution_count": 3,
   "id": "8d2b619b",
   "metadata": {},
   "outputs": [
    {
     "data": {
      "application/vnd.jupyter.widget-view+json": {
       "model_id": "d4f322907343470dbdcbc30bf05bdc29",
       "version_major": 2,
       "version_minor": 0
      },
      "text/plain": [
       "VBox()"
      ]
     },
     "metadata": {},
     "output_type": "display_data"
    },
    {
     "data": {
      "application/vnd.jupyter.widget-view+json": {
       "model_id": "",
       "version_major": 2,
       "version_minor": 0
      },
      "text/plain": [
       "FloatProgress(value=0.0, bar_style='info', description='Progress:', layout=Layout(height='25px', width='50%'),…"
      ]
     },
     "metadata": {},
     "output_type": "display_data"
    }
   ],
   "source": [
    "def fnc_validate_parameters(awsExec_v=EMR_SERVERLESS_EXECUTION):\n",
    "    if (len(sys.argv) != 4) and awsExec_v:\n",
    "        print(\"Usage: spark-etl ['input folder'] ['output folder'] ['rpt_folder']\")\n",
    "        sys.exit(-1)\n",
    "        \n",
    "    if not(awsExec_v): \n",
    "        ## Emr Cluster execution\n",
    "        input_args = ['python-script.py', '../s3_data/input/', '../s3_data/output/', '../s3_data/rpt/']\n",
    "        input_location = input_args[1]\n",
    "        output_location = input_args[2]\n",
    "        rpt_location = input_args[3]\n",
    "    else:\n",
    "        ## Emr Serverless Execution\n",
    "        input_location = sys.argv[1]\n",
    "        output_location = sys.argv[2]\n",
    "        rpt_location = sys.argv[3]\n",
    "        \n",
    "    return input_location, output_location, rpt_location"
   ]
  },
  {
   "cell_type": "code",
   "execution_count": null,
   "id": "f17d7764",
   "metadata": {},
   "outputs": [],
   "source": [
    "(input_location, output_location, rpt_location) = fnc_validate_parameters()"
   ]
  },
  {
   "cell_type": "code",
   "execution_count": 5,
   "id": "f1c8d372",
   "metadata": {},
   "outputs": [
    {
     "data": {
      "application/vnd.jupyter.widget-view+json": {
       "model_id": "bcd8f1097fca4969adac72fe9de240ac",
       "version_major": 2,
       "version_minor": 0
      },
      "text/plain": [
       "VBox()"
      ]
     },
     "metadata": {},
     "output_type": "display_data"
    },
    {
     "data": {
      "application/vnd.jupyter.widget-view+json": {
       "model_id": "",
       "version_major": 2,
       "version_minor": 0
      },
      "text/plain": [
       "FloatProgress(value=0.0, bar_style='info', description='Progress:', layout=Layout(height='25px', width='50%'),…"
      ]
     },
     "metadata": {},
     "output_type": "display_data"
    }
   ],
   "source": [
    "def fshape(dataframe1):\n",
    "    print('Shape : ', dataframe1.count(), len(dataframe1.columns))"
   ]
  },
  {
   "cell_type": "code",
   "execution_count": 6,
   "id": "06703d20",
   "metadata": {},
   "outputs": [
    {
     "data": {
      "application/vnd.jupyter.widget-view+json": {
       "model_id": "217bbdf6428a43e3bb01236e80c3340d",
       "version_major": 2,
       "version_minor": 0
      },
      "text/plain": [
       "VBox()"
      ]
     },
     "metadata": {},
     "output_type": "display_data"
    },
    {
     "data": {
      "application/vnd.jupyter.widget-view+json": {
       "model_id": "",
       "version_major": 2,
       "version_minor": 0
      },
      "text/plain": [
       "FloatProgress(value=0.0, bar_style='info', description='Progress:', layout=Layout(height='25px', width='50%'),…"
      ]
     },
     "metadata": {},
     "output_type": "display_data"
    }
   ],
   "source": [
    "dbname = 'DBM' ## database Marketing\n",
    "tablename = 'TBP_CUSTOMER_CLV' ## Parquet table - Customer Lifetime Value\n",
    "spark_ml_table = 'TB_ML_SPARK_SDF'"
   ]
  },
  {
   "cell_type": "code",
   "execution_count": 7,
   "id": "e25e144c",
   "metadata": {},
   "outputs": [
    {
     "data": {
      "application/vnd.jupyter.widget-view+json": {
       "model_id": "f3961d57fa26480090370f2e511e4a3d",
       "version_major": 2,
       "version_minor": 0
      },
      "text/plain": [
       "VBox()"
      ]
     },
     "metadata": {},
     "output_type": "display_data"
    },
    {
     "data": {
      "application/vnd.jupyter.widget-view+json": {
       "model_id": "",
       "version_major": 2,
       "version_minor": 0
      },
      "text/plain": [
       "FloatProgress(value=0.0, bar_style='info', description='Progress:', layout=Layout(height='25px', width='50%'),…"
      ]
     },
     "metadata": {},
     "output_type": "display_data"
    }
   ],
   "source": [
    "def fnc_show_db_tables():\n",
    "    spark.sql( ' SHOW DATABASES ').show()\n",
    "    spark.sql(' SHOW TABLES ').show()\n",
    "\n",
    "def spark_sql_write_glue_database(db_name, table_name, parquet_output_location=output_location, temp_table=spark_ml_table):\n",
    "    \n",
    "    ## Create AWS GLUE table for Analytics - Ad hoc query for example using Athena SQL\n",
    "    print(' database creation: ', db_name)\n",
    "    spark.sql(f\" CREATE database if not exists {db_name} \")\n",
    "    \n",
    "    print(' table name creation , ', table_name)\n",
    "    spark.sql((\n",
    "        f\" CREATE TABLE IF NOT EXISTS {db_name}.{table_name} \"\n",
    "        f\" USING PARQUET LOCATION '{parquet_output_location}' AS SELECT * FROM {temp_table}\"\n",
    "    ))"
   ]
  },
  {
   "cell_type": "code",
   "execution_count": 8,
   "id": "2c731ab5",
   "metadata": {},
   "outputs": [
    {
     "data": {
      "application/vnd.jupyter.widget-view+json": {
       "model_id": "f68e2f95af9d4340a9f2493551826c5f",
       "version_major": 2,
       "version_minor": 0
      },
      "text/plain": [
       "VBox()"
      ]
     },
     "metadata": {},
     "output_type": "display_data"
    },
    {
     "data": {
      "application/vnd.jupyter.widget-view+json": {
       "model_id": "",
       "version_major": 2,
       "version_minor": 0
      },
      "text/plain": [
       "FloatProgress(value=0.0, bar_style='info', description='Progress:', layout=Layout(height='25px', width='50%'),…"
      ]
     },
     "metadata": {},
     "output_type": "display_data"
    },
    {
     "name": "stdout",
     "output_type": "stream",
     "text": [
      "'s3://s3-bucket-ohio-v1/emr_serverless/s3_data/input/'"
     ]
    }
   ],
   "source": [
    "# s3_bucket = 's3://S3_BUCKET_NAME/'\n",
    "# parquet_file_name = 'S3_NAME_DIR/data_input/OnlineRetail__AWS.parquet'\n",
    "\n",
    "# s3_filename = s3_bucket + parquet_file_name\n",
    "\n",
    "s3_filename = input_location\n",
    "s3_filename"
   ]
  },
  {
   "cell_type": "code",
   "execution_count": 9,
   "id": "1ae7e65b",
   "metadata": {},
   "outputs": [
    {
     "data": {
      "application/vnd.jupyter.widget-view+json": {
       "model_id": "b1412de0f45147f099269481ff11a500",
       "version_major": 2,
       "version_minor": 0
      },
      "text/plain": [
       "VBox()"
      ]
     },
     "metadata": {},
     "output_type": "display_data"
    },
    {
     "data": {
      "application/vnd.jupyter.widget-view+json": {
       "model_id": "",
       "version_major": 2,
       "version_minor": 0
      },
      "text/plain": [
       "FloatProgress(value=0.0, bar_style='info', description='Progress:', layout=Layout(height='25px', width='50%'),…"
      ]
     },
     "metadata": {},
     "output_type": "display_data"
    },
    {
     "name": "stdout",
     "output_type": "stream",
     "text": [
      "root\n",
      " |-- InvoiceNo: string (nullable = true)\n",
      " |-- StockCode: string (nullable = true)\n",
      " |-- Description: string (nullable = true)\n",
      " |-- Quantity: integer (nullable = true)\n",
      " |-- InvoiceDate: timestamp (nullable = true)\n",
      " |-- UnitPrice: float (nullable = true)\n",
      " |-- CustomerID: double (nullable = true)\n",
      " |-- Country: string (nullable = true)\n",
      "\n",
      "None"
     ]
    }
   ],
   "source": [
    "## read parquet filename\n",
    "sdf = spark.read.parquet(s3_filename)\n",
    "print(sdf.printSchema())\n",
    "# fshape(sdf)"
   ]
  },
  {
   "cell_type": "code",
   "execution_count": 10,
   "id": "e4157b27",
   "metadata": {},
   "outputs": [
    {
     "data": {
      "application/vnd.jupyter.widget-view+json": {
       "model_id": "3fb14078f48747d0858aa4415768c50d",
       "version_major": 2,
       "version_minor": 0
      },
      "text/plain": [
       "VBox()"
      ]
     },
     "metadata": {},
     "output_type": "display_data"
    },
    {
     "data": {
      "application/vnd.jupyter.widget-view+json": {
       "model_id": "",
       "version_major": 2,
       "version_minor": 0
      },
      "text/plain": [
       "FloatProgress(value=0.0, bar_style='info', description='Progress:', layout=Layout(height='25px', width='50%'),…"
      ]
     },
     "metadata": {},
     "output_type": "display_data"
    },
    {
     "name": "stdout",
     "output_type": "stream",
     "text": [
      "Shape :  541909 8"
     ]
    }
   ],
   "source": [
    "fshape(sdf)"
   ]
  },
  {
   "cell_type": "code",
   "execution_count": 11,
   "id": "eb248e46",
   "metadata": {},
   "outputs": [
    {
     "data": {
      "application/vnd.jupyter.widget-view+json": {
       "model_id": "7e3e98c8021042b282c0306b3eaca5dc",
       "version_major": 2,
       "version_minor": 0
      },
      "text/plain": [
       "VBox()"
      ]
     },
     "metadata": {},
     "output_type": "display_data"
    },
    {
     "data": {
      "application/vnd.jupyter.widget-view+json": {
       "model_id": "",
       "version_major": 2,
       "version_minor": 0
      },
      "text/plain": [
       "FloatProgress(value=0.0, bar_style='info', description='Progress:', layout=Layout(height='25px', width='50%'),…"
      ]
     },
     "metadata": {},
     "output_type": "display_data"
    },
    {
     "name": "stdout",
     "output_type": "stream",
     "text": [
      "+-------------------------+----------+\n",
      "|current_date_for_FRMV_CLV| not_today|\n",
      "+-------------------------+----------+\n",
      "|               2011-12-09|2023-03-25|\n",
      "+-------------------------+----------+"
     ]
    }
   ],
   "source": [
    "## ETL\n",
    "sdf.createOrReplaceTempView('TB_SALES_SDF')\n",
    "spark.sql('select max(TO_DATE(InvoiceDate)) as current_date_for_FRMV_CLV, current_date as not_today from TB_SALES_SDF').show()"
   ]
  },
  {
   "cell_type": "code",
   "execution_count": 12,
   "id": "a15ad0b6",
   "metadata": {},
   "outputs": [
    {
     "data": {
      "application/vnd.jupyter.widget-view+json": {
       "model_id": "4759e381f52044c8aaff11574afe6346",
       "version_major": 2,
       "version_minor": 0
      },
      "text/plain": [
       "VBox()"
      ]
     },
     "metadata": {},
     "output_type": "display_data"
    },
    {
     "data": {
      "application/vnd.jupyter.widget-view+json": {
       "model_id": "",
       "version_major": 2,
       "version_minor": 0
      },
      "text/plain": [
       "FloatProgress(value=0.0, bar_style='info', description='Progress:', layout=Layout(height='25px', width='50%'),…"
      ]
     },
     "metadata": {},
     "output_type": "display_data"
    },
    {
     "name": "stdout",
     "output_type": "stream",
     "text": [
      "Catalog Entry:\n",
      "Function(name='fnc_customer_clv_udf', description=None, className='org.apache.spark.sql.UDFRegistration$$Lambda$4837/1074466461', isTemporary=True)\n",
      "[None]"
     ]
    }
   ],
   "source": [
    "## formula to calculate CLV \n",
    "def fnc_customer_clv_udf(monetary_value_f, frequency_f, recency_f, discount_f=0.1):\n",
    "    return round ( ( (monetary_value_f / frequency_f) * (1 - ((recency_f + 1) / 365)) / (1 + discount_f) ) , 2)\n",
    "\n",
    "## Register the formula to be used by Spark-SQL\n",
    "from pyspark.sql.types import FloatType\n",
    "\n",
    "spark.udf.register('fnc_customer_clv_udf', fnc_customer_clv_udf, FloatType())\n",
    "\n",
    "print(\"Catalog Entry:\")\n",
    "[print(r) for r in spark.catalog.listFunctions() if \"fnc_customer_clv_udf\" in r.name]"
   ]
  },
  {
   "cell_type": "code",
   "execution_count": 13,
   "id": "5daca693",
   "metadata": {},
   "outputs": [
    {
     "data": {
      "application/vnd.jupyter.widget-view+json": {
       "model_id": "c8ed06afd5014b9ca4000ce2ede0e950",
       "version_major": 2,
       "version_minor": 0
      },
      "text/plain": [
       "VBox()"
      ]
     },
     "metadata": {},
     "output_type": "display_data"
    },
    {
     "data": {
      "application/vnd.jupyter.widget-view+json": {
       "model_id": "",
       "version_major": 2,
       "version_minor": 0
      },
      "text/plain": [
       "FloatProgress(value=0.0, bar_style='info', description='Progress:', layout=Layout(height='25px', width='50%'),…"
      ]
     },
     "metadata": {},
     "output_type": "display_data"
    },
    {
     "name": "stdout",
     "output_type": "stream",
     "text": [
      "root\n",
      " |-- customer_id: double (nullable = true)\n",
      " |-- frequency: long (nullable = false)\n",
      " |-- recency_now: integer (nullable = true)\n",
      " |-- monetary_value: double (nullable = true)\n",
      " |-- avg_revenue: double (nullable = true)\n",
      " |-- dt_first_Invoice: timestamp (nullable = true)\n",
      " |-- dt_last_Invoice: timestamp (nullable = true)\n",
      " |-- recency_dt: float (nullable = true)\n",
      " |-- CLV_SQL: double (nullable = true)\n",
      " |-- CLV_UDF: float (nullable = true)"
     ]
    }
   ],
   "source": [
    "## Apply some filters and create the main customer purchase history as an example\n",
    "sql_query_clv = \"\"\"\n",
    "WITH TB_SALES_V AS\n",
    "(\n",
    "    SELECT CustomerID as customer_id\n",
    "        , COUNT(DISTINCT (InvoiceDate))  as frequency\n",
    "        , DATEDIFF( current_date , MAX (InvoiceDate) )  as recency_now\n",
    "        , ROUND(SUM(Quantity * UnitPrice), 2) as monetary_value\n",
    "        , ROUND(avg(Quantity * UnitPrice), 2) as avg_revenue\n",
    "        , MIN(InvoiceDate) as dt_first_Invoice\n",
    "        , MAX(InvoiceDate) as dt_last_Invoice\n",
    "        -- , ROUND(AVG(Quantity), 2) as avg_items\n",
    "        -- , ROUND(SUM(Quantity), 2) as total_items\n",
    "    FROM TB_SALES_SDF\n",
    "    WHERE 1 = 1\n",
    "        AND InvoiceDate IS NOT NULL\n",
    "        AND Quantity > 0\n",
    "        AND UnitPrice > 0\n",
    "    GROUP BY customer_id\n",
    ")\n",
    "SELECT tb3.*\n",
    "  , ROUND ( ( (monetary_value / frequency) * (1 - ((recency_dt + 1) / 365)) / (1 + 0.1) ) , 2) AS CLV_SQL -- discount of 0.1\n",
    "  , fnc_customer_clv_udf(monetary_value,frequency,recency_dt) AS CLV_UDF\n",
    "FROM (\n",
    "    SELECT tb1.*\n",
    "        , CAST( DATEDIFF(tb2.dt_current_date , tb1.dt_last_Invoice ) as float) as recency_dt\n",
    "    FROM TB_SALES_V as tb1\n",
    "    CROSS JOIN (SELECT MAX(dt_last_Invoice) AS dt_current_date FROM TB_SALES_V) tb2\n",
    "    ) tb3\n",
    "WHERE 1 = 1\n",
    "  AND monetary_value > 0\n",
    "  AND frequency > 0\n",
    "  AND customer_id IS NOT NULL\n",
    "ORDER BY monetary_value DESC\n",
    "\"\"\"\n",
    "\n",
    "sdf_clv = spark.sql(sql_query_clv)\n",
    "sdf_clv.printSchema()"
   ]
  },
  {
   "cell_type": "code",
   "execution_count": 14,
   "id": "e05b7e56",
   "metadata": {},
   "outputs": [
    {
     "data": {
      "application/vnd.jupyter.widget-view+json": {
       "model_id": "fbd82814f8c84d38ac4d623f65aa081a",
       "version_major": 2,
       "version_minor": 0
      },
      "text/plain": [
       "VBox()"
      ]
     },
     "metadata": {},
     "output_type": "display_data"
    },
    {
     "data": {
      "application/vnd.jupyter.widget-view+json": {
       "model_id": "",
       "version_major": 2,
       "version_minor": 0
      },
      "text/plain": [
       "FloatProgress(value=0.0, bar_style='info', description='Progress:', layout=Layout(height='25px', width='50%'),…"
      ]
     },
     "metadata": {},
     "output_type": "display_data"
    },
    {
     "name": "stdout",
     "output_type": "stream",
     "text": [
      "clv_SQL and clv_udf provide the same information - just show how to implement it using 2 solutions... SQL and UDF\n",
      "+-----------+---------+-----------+--------------+-----------+-------------------+-------------------+----------+-------+-------+\n",
      "|customer_id|frequency|recency_now|monetary_value|avg_revenue|   dt_first_Invoice|    dt_last_Invoice|recency_dt|CLV_SQL|CLV_UDF|\n",
      "+-----------+---------+-----------+--------------+-----------+-------------------+-------------------+----------+-------+-------+\n",
      "|    14646.0|       51|       4125|      200541.0|     137.36|2010-12-20 10:09:00|2011-12-08 00:12:00|       1.0|3555.12|3555.12|\n",
      "|    16446.0|        2|       4124|     168472.49|    56157.5|2011-05-18 09:52:00|2011-12-09 09:15:00|       0.0|76368.6|76368.6|\n",
      "|    17450.0|       27|       4134|     121321.71|     588.94|2010-12-07 09:23:00|2011-11-29 09:56:00|      10.0| 3961.8| 3961.8|\n",
      "+-----------+---------+-----------+--------------+-----------+-------------------+-------------------+----------+-------+-------+\n",
      "only showing top 3 rows"
     ]
    }
   ],
   "source": [
    "print('clv_SQL and clv_udf provide the same information - just show how to implement it using 2 solutions... SQL and UDF')\n",
    "sdf_clv.show(3)"
   ]
  },
  {
   "cell_type": "code",
   "execution_count": 15,
   "id": "b1714bd7",
   "metadata": {},
   "outputs": [
    {
     "data": {
      "application/vnd.jupyter.widget-view+json": {
       "model_id": "51eb6b2966d14f67ad9ddcf58ed7956f",
       "version_major": 2,
       "version_minor": 0
      },
      "text/plain": [
       "VBox()"
      ]
     },
     "metadata": {},
     "output_type": "display_data"
    },
    {
     "data": {
      "application/vnd.jupyter.widget-view+json": {
       "model_id": "",
       "version_major": 2,
       "version_minor": 0
      },
      "text/plain": [
       "FloatProgress(value=0.0, bar_style='info', description='Progress:', layout=Layout(height='25px', width='50%'),…"
      ]
     },
     "metadata": {},
     "output_type": "display_data"
    }
   ],
   "source": [
    "sdf_clv.createOrReplaceTempView(spark_ml_table)"
   ]
  },
  {
   "cell_type": "code",
   "execution_count": 16,
   "id": "f1fd8543",
   "metadata": {},
   "outputs": [
    {
     "data": {
      "application/vnd.jupyter.widget-view+json": {
       "model_id": "e575bc04d0884114b10f603cff5e1589",
       "version_major": 2,
       "version_minor": 0
      },
      "text/plain": [
       "VBox()"
      ]
     },
     "metadata": {},
     "output_type": "display_data"
    },
    {
     "data": {
      "application/vnd.jupyter.widget-view+json": {
       "model_id": "",
       "version_major": 2,
       "version_minor": 0
      },
      "text/plain": [
       "FloatProgress(value=0.0, bar_style='info', description='Progress:', layout=Layout(height='25px', width='50%'),…"
      ]
     },
     "metadata": {},
     "output_type": "display_data"
    }
   ],
   "source": [
    "def ml_sql_prediction():\n",
    "    text_sql_ml2 = f\"\"\"\n",
    "    SELECT \n",
    "        {spark_ml_table}.*,\n",
    "    ( CASE\n",
    "    WHEN ( ( ( `frequency`  > 1.0e1 AND `frequency`  <= 1.14e2 ) ) ) THEN 9\n",
    "    WHEN ( ((abs(year(`dt_first_Invoice`) - 2.01e3) <= 10e-9) OR ( (`dt_first_Invoice` IS NULL ) ) ) AND ((abs(`frequency` - 1.0e0) <= 10e-9) OR (abs(`frequency` - 2.0e0) <= 10e-9) OR (abs(`frequency` - 3.0e0) <= 10e-9) OR (abs(`frequency` - 4.0e0) <= 10e-9) OR (abs(`frequency` - 5.0e0) <= 10e-9) OR (abs(`frequency` - 6.0e0) <= 10e-9) OR ( (`frequency` IS NULL ) ) ) AND ( ( (datediff(concat(year(`dt_last_Invoice`),'-',month(`dt_last_Invoice`),'-',day(`dt_last_Invoice`)),concat(year(`dt_last_Invoice`),'-01-01')) + 1)  >= 4.0e0 AND (datediff(concat(year(`dt_last_Invoice`),'-',month(`dt_last_Invoice`),'-',day(`dt_last_Invoice`)),concat(year(`dt_last_Invoice`),'-01-01')) + 1)  <= 3.4e2 ) OR ( (`dt_last_Invoice` IS NULL ) ) ) ) THEN 1\n",
    "    WHEN ( ((abs(`frequency` - 7.0e0) <= 10e-9) OR  ( `frequency`  >= 8.0e0 AND `frequency`  <= 1.3e1 ) ) ) THEN 3\n",
    "    WHEN ( ( ( `recency_dt`  >= 0.0e0 AND `recency_dt`  <= 4.0e0 ) ) ) THEN 10\n",
    "    WHEN ( ( ( `CLV_SQL`  > 9.0245000000000005e2 AND `CLV_SQL`  <= 7.49729e3 ) ) ) THEN 6\n",
    "    WHEN ( ( ( `CLV_SQL`  > 3.8501999999999998e2 AND `CLV_SQL`  <= 9.0245000000000005e2 ) ) AND ((abs(`frequency` - 1.0e0) <= 10e-9) OR (abs(`frequency` - 2.0e0) <= 10e-9) OR (abs(`frequency` - 3.0e0) <= 10e-9) OR (abs(`frequency` - 4.0e0) <= 10e-9) OR (abs(`frequency` - 5.0e0) <= 10e-9) OR (abs(`frequency` - 6.0e0) <= 10e-9) OR ( (`frequency` IS NULL ) ) ) ) THEN 2\n",
    "    WHEN ( ( ( (datediff(concat(year(`dt_first_Invoice`),'-',month(`dt_first_Invoice`),'-',day(`dt_first_Invoice`)),concat(year(`dt_first_Invoice`),'-01-01')) + 1)  > 1.3e1 AND (datediff(concat(year(`dt_first_Invoice`),'-',month(`dt_first_Invoice`),'-',day(`dt_first_Invoice`)),concat(year(`dt_first_Invoice`),'-01-01')) + 1)  <= 6.7e1 ) OR  ( (datediff(concat(year(`dt_first_Invoice`),'-',month(`dt_first_Invoice`),'-',day(`dt_first_Invoice`)),concat(year(`dt_first_Invoice`),'-01-01')) + 1)  > 9.7e1 AND (datediff(concat(year(`dt_first_Invoice`),'-',month(`dt_first_Invoice`),'-',day(`dt_first_Invoice`)),concat(year(`dt_first_Invoice`),'-01-01')) + 1)  <= 1.61e2 ) OR  ( (datediff(concat(year(`dt_first_Invoice`),'-',month(`dt_first_Invoice`),'-',day(`dt_first_Invoice`)),concat(year(`dt_first_Invoice`),'-01-01')) + 1)  > 3.31e2 AND (datediff(concat(year(`dt_first_Invoice`),'-',month(`dt_first_Invoice`),'-',day(`dt_first_Invoice`)),concat(year(`dt_first_Invoice`),'-01-01')) + 1)  <= 3.37e2 ) ) AND ((abs(day(`dt_first_Invoice`) - 8.0e0) <= 10e-9) OR (abs(day(`dt_first_Invoice`) - 1.0e1) <= 10e-9) OR  ( day(`dt_first_Invoice`)  >= 1.1e1 AND day(`dt_first_Invoice`)  <= 1.2e1 ) OR (abs(day(`dt_first_Invoice`) - 1.3e1) <= 10e-9) OR (abs(day(`dt_first_Invoice`) - 1.4e1) <= 10e-9) OR (abs(day(`dt_first_Invoice`) - 1.5e1) <= 10e-9) OR (abs(day(`dt_first_Invoice`) - 1.6e1) <= 10e-9) OR  ( day(`dt_first_Invoice`)  >= 1.9e1 AND day(`dt_first_Invoice`)  <= 2.0e1 ) OR  ( day(`dt_first_Invoice`)  >= 2.1e1 AND day(`dt_first_Invoice`)  <= 2.5e1 ) OR  ( day(`dt_first_Invoice`)  >= 2.6e1 AND day(`dt_first_Invoice`)  <= 3.1e1 ) OR ( (`dt_first_Invoice` IS NULL ) ) ) AND ( ( `recency_dt`  >= 1.0e1 AND `recency_dt`  <= 1.2e1 ) OR  ( `recency_dt`  > 6.4e1 AND `recency_dt`  <= 3.25e2 ) OR ( (`recency_dt` IS NULL ) ) ) AND ((abs(month(`dt_last_Invoice`) - 2.0e0) <= 10e-9) OR (abs(month(`dt_last_Invoice`) - 5.0e0) <= 10e-9) OR (abs(month(`dt_last_Invoice`) - 6.0e0) <= 10e-9) OR (abs(month(`dt_last_Invoice`) - 7.0e0) <= 10e-9) OR (abs(month(`dt_last_Invoice`) - 8.0e0) <= 10e-9) OR (abs(month(`dt_last_Invoice`) - 9.0e0) <= 10e-9) OR (abs(month(`dt_last_Invoice`) - 1.1e1) <= 10e-9) OR ( (`dt_last_Invoice` IS NULL ) ) ) AND ( ( `CLV_SQL`  >= -2.3859999999999999e1 AND `CLV_SQL`  <= 2.7060000000000002e2 ) OR  ( `CLV_SQL`  > 2.8797000000000003e2 AND `CLV_SQL`  <= 3.0750999999999999e2 ) OR ( (`CLV_SQL` IS NULL ) ) ) ) THEN 8\n",
    "    WHEN ( ((abs(month(`dt_last_Invoice`) - 3.0e0) <= 10e-9) OR (abs(month(`dt_last_Invoice`) - 4.0e0) <= 10e-9) OR (abs(month(`dt_last_Invoice`) - 5.0e0) <= 10e-9) OR (abs(month(`dt_last_Invoice`) - 6.0e0) <= 10e-9) OR (abs(month(`dt_last_Invoice`) - 7.0e0) <= 10e-9) OR (abs(month(`dt_last_Invoice`) - 8.0e0) <= 10e-9) OR (abs(month(`dt_last_Invoice`) - 9.0e0) <= 10e-9) ) AND ( ( `avg_revenue`  >= 1.0e0 AND `avg_revenue`  <= 2.1870000000000001e1 ) ) AND ((abs(day(`dt_first_Invoice`) - 9.0e0) <= 10e-9) OR (abs(day(`dt_first_Invoice`) - 1.0e1) <= 10e-9) OR  ( day(`dt_first_Invoice`)  >= 1.1e1 AND day(`dt_first_Invoice`)  <= 1.2e1 ) OR (abs(day(`dt_first_Invoice`) - 1.3e1) <= 10e-9) OR (abs(day(`dt_first_Invoice`) - 1.4e1) <= 10e-9) OR (abs(day(`dt_first_Invoice`) - 1.5e1) <= 10e-9) OR (abs(day(`dt_first_Invoice`) - 1.6e1) <= 10e-9) OR  ( day(`dt_first_Invoice`)  >= 1.9e1 AND day(`dt_first_Invoice`)  <= 2.0e1 ) OR  ( day(`dt_first_Invoice`)  >= 2.1e1 AND day(`dt_first_Invoice`)  <= 2.5e1 ) OR  ( day(`dt_first_Invoice`)  >= 2.6e1 AND day(`dt_first_Invoice`)  <= 3.1e1 ) OR ( (`dt_first_Invoice` IS NULL ) ) ) AND ((abs(`frequency` - 1.0e0) <= 10e-9) OR (abs(`frequency` - 2.0e0) <= 10e-9) ) ) THEN 7\n",
    "    WHEN ( ( ( `recency_dt`  >= 3.0e0 AND `recency_dt`  <= 2.5e1 ) OR  ( `recency_dt`  > 3.1e1 AND `recency_dt`  <= 3.6e1 ) OR  ( `recency_dt`  > 3.25e2 AND `recency_dt`  <= 3.74e2 ) ) AND ((abs(`frequency` - 1.0e0) <= 10e-9) OR (abs(`frequency` - 2.0e0) <= 10e-9) OR (abs(`frequency` - 3.0e0) <= 10e-9) OR (abs(`frequency` - 4.0e0) <= 10e-9) OR (abs(`frequency` - 5.0e0) <= 10e-9) OR (abs(`frequency` - 6.0e0) <= 10e-9) OR ( (`frequency` IS NULL ) ) ) AND ( ( (datediff(concat(year(`dt_last_Invoice`),'-',month(`dt_last_Invoice`),'-',day(`dt_last_Invoice`)),concat(year(`dt_last_Invoice`),'-01-01')) + 1)  > 3.08e2 AND (datediff(concat(year(`dt_last_Invoice`),'-',month(`dt_last_Invoice`),'-',day(`dt_last_Invoice`)),concat(year(`dt_last_Invoice`),'-01-01')) + 1)  <= 3.4e2 ) OR  ( (datediff(concat(year(`dt_last_Invoice`),'-',month(`dt_last_Invoice`),'-',day(`dt_last_Invoice`)),concat(year(`dt_last_Invoice`),'-01-01')) + 1)  >= 3.41e2 AND (datediff(concat(year(`dt_last_Invoice`),'-',month(`dt_last_Invoice`),'-',day(`dt_last_Invoice`)),concat(year(`dt_last_Invoice`),'-01-01')) + 1)  <= 3.57e2 ) ) ) THEN 5\n",
    "    WHEN ( ( ( (datediff(concat(year(`dt_last_Invoice`),'-',month(`dt_last_Invoice`),'-',day(`dt_last_Invoice`)),concat(year(`dt_last_Invoice`),'-01-01')) + 1)  >= 4.0e0 AND (datediff(concat(year(`dt_last_Invoice`),'-',month(`dt_last_Invoice`),'-',day(`dt_last_Invoice`)),concat(year(`dt_last_Invoice`),'-01-01')) + 1)  <= 3.19e2 ) OR ( (`dt_last_Invoice` IS NULL ) ) ) AND ( ( `CLV_SQL`  >= -2.3859999999999999e1 AND `CLV_SQL`  <= 3.8501999999999998e2 ) OR ( (`CLV_SQL` IS NULL ) ) ) AND ((abs(year(`dt_first_Invoice`) - 2.011e3) <= 10e-9) ) ) THEN 4\n",
    "    ELSE 11\n",
    "    END ) AS kc_monetary_value \t\n",
    "    FROM {spark_ml_table}\n",
    "\"\"\"\n",
    "    return text_sql_ml2"
   ]
  },
  {
   "cell_type": "code",
   "execution_count": 17,
   "id": "8eb8305f",
   "metadata": {},
   "outputs": [
    {
     "data": {
      "application/vnd.jupyter.widget-view+json": {
       "model_id": "3f6c924b42724987bece0da758639fa9",
       "version_major": 2,
       "version_minor": 0
      },
      "text/plain": [
       "VBox()"
      ]
     },
     "metadata": {},
     "output_type": "display_data"
    },
    {
     "data": {
      "application/vnd.jupyter.widget-view+json": {
       "model_id": "",
       "version_major": 2,
       "version_minor": 0
      },
      "text/plain": [
       "FloatProgress(value=0.0, bar_style='info', description='Progress:', layout=Layout(height='25px', width='50%'),…"
      ]
     },
     "metadata": {},
     "output_type": "display_data"
    },
    {
     "name": "stdout",
     "output_type": "stream",
     "text": [
      "root\n",
      " |-- customer_id: double (nullable = true)\n",
      " |-- frequency: long (nullable = false)\n",
      " |-- recency_now: integer (nullable = true)\n",
      " |-- monetary_value: double (nullable = true)\n",
      " |-- avg_revenue: double (nullable = true)\n",
      " |-- dt_first_Invoice: timestamp (nullable = true)\n",
      " |-- dt_last_Invoice: timestamp (nullable = true)\n",
      " |-- recency_dt: float (nullable = true)\n",
      " |-- CLV_SQL: double (nullable = true)\n",
      " |-- CLV_UDF: float (nullable = true)\n",
      " |-- kc_monetary_value: integer (nullable = false)"
     ]
    }
   ],
   "source": [
    "sdf_ml = spark.sql(ml_sql_prediction())\n",
    "\n",
    "sdf_ml.printSchema()"
   ]
  },
  {
   "cell_type": "code",
   "execution_count": 18,
   "id": "b42133ea",
   "metadata": {},
   "outputs": [
    {
     "data": {
      "application/vnd.jupyter.widget-view+json": {
       "model_id": "0273c7fed12c479ea32af81554ca82d2",
       "version_major": 2,
       "version_minor": 0
      },
      "text/plain": [
       "VBox()"
      ]
     },
     "metadata": {},
     "output_type": "display_data"
    },
    {
     "data": {
      "application/vnd.jupyter.widget-view+json": {
       "model_id": "",
       "version_major": 2,
       "version_minor": 0
      },
      "text/plain": [
       "FloatProgress(value=0.0, bar_style='info', description='Progress:', layout=Layout(height='25px', width='50%'),…"
      ]
     },
     "metadata": {},
     "output_type": "display_data"
    },
    {
     "name": "stdout",
     "output_type": "stream",
     "text": [
      "+-----------+---------+-----------+--------------+-----------+-------------------+-------------------+----------+-------+-------+-----------------+\n",
      "|customer_id|frequency|recency_now|monetary_value|avg_revenue|   dt_first_Invoice|    dt_last_Invoice|recency_dt|CLV_SQL|CLV_UDF|kc_monetary_value|\n",
      "+-----------+---------+-----------+--------------+-----------+-------------------+-------------------+----------+-------+-------+-----------------+\n",
      "|    14646.0|       51|       4125|      200541.0|     137.36|2010-12-20 10:09:00|2011-12-08 00:12:00|       1.0|3555.12|3555.12|                9|\n",
      "|    16446.0|        2|       4124|     168472.49|    56157.5|2011-05-18 09:52:00|2011-12-09 09:15:00|       0.0|76368.6|76368.6|               10|\n",
      "|    17450.0|       27|       4134|     121321.71|     588.94|2010-12-07 09:23:00|2011-11-29 09:56:00|      10.0| 3961.8| 3961.8|                9|\n",
      "+-----------+---------+-----------+--------------+-----------+-------------------+-------------------+----------+-------+-------+-----------------+\n",
      "only showing top 3 rows"
     ]
    }
   ],
   "source": [
    "sdf_ml.show(3)"
   ]
  },
  {
   "cell_type": "code",
   "execution_count": 19,
   "id": "347f0dda",
   "metadata": {},
   "outputs": [
    {
     "data": {
      "application/vnd.jupyter.widget-view+json": {
       "model_id": "c66af8f0bf3b4fefa975413bbb20a6cc",
       "version_major": 2,
       "version_minor": 0
      },
      "text/plain": [
       "VBox()"
      ]
     },
     "metadata": {},
     "output_type": "display_data"
    },
    {
     "data": {
      "application/vnd.jupyter.widget-view+json": {
       "model_id": "",
       "version_major": 2,
       "version_minor": 0
      },
      "text/plain": [
       "FloatProgress(value=0.0, bar_style='info', description='Progress:', layout=Layout(height='25px', width='50%'),…"
      ]
     },
     "metadata": {},
     "output_type": "display_data"
    }
   ],
   "source": [
    "s3_export_file = output_location\n",
    "sdf_ml.write.mode('overwrite').parquet(s3_export_file)"
   ]
  },
  {
   "cell_type": "code",
   "execution_count": 20,
   "id": "1b829bf6",
   "metadata": {},
   "outputs": [
    {
     "data": {
      "application/vnd.jupyter.widget-view+json": {
       "model_id": "048a42e8554947cfa599efe7e7ea68bc",
       "version_major": 2,
       "version_minor": 0
      },
      "text/plain": [
       "VBox()"
      ]
     },
     "metadata": {},
     "output_type": "display_data"
    },
    {
     "data": {
      "application/vnd.jupyter.widget-view+json": {
       "model_id": "",
       "version_major": 2,
       "version_minor": 0
      },
      "text/plain": [
       "FloatProgress(value=0.0, bar_style='info', description='Progress:', layout=Layout(height='25px', width='50%'),…"
      ]
     },
     "metadata": {},
     "output_type": "display_data"
    },
    {
     "name": "stdout",
     "output_type": "stream",
     "text": [
      "root\n",
      " |-- cluster_number: integer (nullable = false)\n",
      " |-- percent_of_customers: double (nullable = true)\n",
      " |-- avg_clv: double (nullable = true)\n",
      " |-- avg_monetary_value: double (nullable = true)"
     ]
    }
   ],
   "source": [
    "## Summary report\n",
    "sdf_ml.createOrReplaceTempView('TB_CLV_SDF_ML')\n",
    "\n",
    "ml_rpt_sql = \"\"\"\n",
    "WITH TB_CLUSTER AS \n",
    "(\n",
    "    select kc_monetary_value as cluster_number\n",
    "    , count(distinct customer_id) as customer_count\n",
    "    , avg(clv_sql) avg_clv\n",
    "    , avg(monetary_value) avg_monetary_value\n",
    "    -- , count(*) as qty_records\n",
    "    FROM TB_CLV_SDF_ML\n",
    "    group by kc_monetary_value\n",
    ")\n",
    "SELECT cluster_number\n",
    "--    , customer_count\n",
    "    , ROUND( customer_count / (select sum(customer_count) from TB_CLUSTER ) * 100, 2) as percent_of_customers\n",
    "    , ROUND( avg_clv, 2) as avg_clv\n",
    "    , ROUND( avg_monetary_value, 2) as avg_monetary_value\n",
    "FROM TB_CLUSTER tb1\n",
    "order by avg_clv desc\n",
    "\"\"\"\n",
    "\n",
    "sdf_ml_rpt = spark.sql(ml_rpt_sql) \n",
    "sdf_ml_rpt.printSchema()"
   ]
  },
  {
   "cell_type": "markdown",
   "id": "c864c2a2",
   "metadata": {},
   "source": [
    "### AWS GLUE - Database and Table export"
   ]
  },
  {
   "cell_type": "code",
   "execution_count": 26,
   "id": "d0a8d5b0",
   "metadata": {},
   "outputs": [
    {
     "data": {
      "application/vnd.jupyter.widget-view+json": {
       "model_id": "800dc62fd7a94f73a43e64dba624d9a9",
       "version_major": 2,
       "version_minor": 0
      },
      "text/plain": [
       "VBox()"
      ]
     },
     "metadata": {},
     "output_type": "display_data"
    },
    {
     "data": {
      "application/vnd.jupyter.widget-view+json": {
       "model_id": "",
       "version_major": 2,
       "version_minor": 0
      },
      "text/plain": [
       "FloatProgress(value=0.0, bar_style='info', description='Progress:', layout=Layout(height='25px', width='50%'),…"
      ]
     },
     "metadata": {},
     "output_type": "display_data"
    },
    {
     "name": "stdout",
     "output_type": "stream",
     "text": [
      " database creation:  DBM\n",
      " table name creation ,  TBP_CUSTOMER_CLV"
     ]
    }
   ],
   "source": [
    "## EMR CLUSTER\n",
    "### upload table to AWS GLUE - database\n",
    "spark_sql_write_glue_database(db_name=dbname, table_name=tablename, \n",
    "                              parquet_output_location=output_location)"
   ]
  },
  {
   "cell_type": "markdown",
   "id": "e9989a94",
   "metadata": {},
   "source": [
    "##### End the notebook"
   ]
  }
 ],
 "metadata": {
  "kernelspec": {
   "display_name": "Python 3 (ipykernel)",
   "language": "python",
   "name": "python3"
  },
  "language_info": {
   "codemirror_mode": {
    "name": "ipython",
    "version": 3
   },
   "file_extension": ".py",
   "mimetype": "text/x-python",
   "name": "python",
   "nbconvert_exporter": "python",
   "pygments_lexer": "ipython3",
   "version": "3.9.13"
  }
 },
 "nbformat": 4,
 "nbformat_minor": 5
}
