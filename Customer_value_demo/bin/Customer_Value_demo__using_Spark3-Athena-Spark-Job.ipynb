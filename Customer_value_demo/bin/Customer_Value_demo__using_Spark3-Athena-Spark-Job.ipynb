{
 "cells": [
  {
   "cell_type": "markdown",
   "id": "0a11e2a9",
   "metadata": {},
   "source": [
    "## Customer Value\n",
    "\n",
    "<b> CLV stands for \"Customer Lifetime Value\".</b> calcularion using Spark/PySpark and FRM (Frequency, Recency, and Monetary Value)\n"
   ]
  },
  {
   "cell_type": "code",
   "execution_count": 20,
   "id": "fc1eb3af",
   "metadata": {},
   "outputs": [
    {
     "name": "stdout",
     "output_type": "stream",
     "text": [
      "Calculation started (calculation_id=52c36bad-027a-5510-b92f-1f8c3fbe6e4a) in (session=e8c36baa-8d81-376a-9f0d-b27954f00d24). Checking calculation status...\n"
     ]
    },
    {
     "data": {
      "application/vnd.jupyter.widget-view+json": {
       "model_id": "ea3e84aea784467c8e4c3351bd22230f",
       "version_major": 2,
       "version_minor": 0
      },
      "text/plain": [
       "Progress:   0%|          |elapsed time = 00:00s"
      ]
     },
     "metadata": {},
     "output_type": "display_data"
    },
    {
     "name": "stdout",
     "output_type": "stream",
     "text": [
      "Calculation completed.\n",
      "'3.2.1-amzn-0'\n",
      "\n"
     ]
    }
   ],
   "source": [
    "# Athena execution\n",
    "spark.version"
   ]
  },
  {
   "cell_type": "code",
   "execution_count": 6,
   "id": "ddb2615d",
   "metadata": {},
   "outputs": [],
   "source": [
    "# ## EMR and Athena for Spark Job already have spark session set-up\n",
    "# ## EXECUTE ONLY IN LOCAL DEVELOPMENT\n",
    "# import findspark\n",
    "# findspark.init()\n",
    "\n",
    "# import pandas as pd\n",
    "# from pyspark.sql import SparkSession\n",
    "\n",
    "# ## default Spark appName - se preferir \n",
    "# spark = SparkSession.builder.appName('Spark3-quick-demo-app').master('local[*]').getOrCreate()\n",
    "# sc = spark.sparkContext\n",
    "# spark"
   ]
  },
  {
   "cell_type": "markdown",
   "id": "2c116374",
   "metadata": {},
   "source": [
    "##### Aux functions"
   ]
  },
  {
   "cell_type": "code",
   "execution_count": 21,
   "id": "ab7385d7",
   "metadata": {},
   "outputs": [
    {
     "name": "stdout",
     "output_type": "stream",
     "text": [
      "Calculation started (calculation_id=b4c36bad-040f-541d-1407-f910c7254bef) in (session=e8c36baa-8d81-376a-9f0d-b27954f00d24). Checking calculation status...\n"
     ]
    },
    {
     "data": {
      "application/vnd.jupyter.widget-view+json": {
       "model_id": "8e1831601ea5489e8ec2b77b5cdb30b7",
       "version_major": 2,
       "version_minor": 0
      },
      "text/plain": [
       "Progress:   0%|          |elapsed time = 00:00s"
      ]
     },
     "metadata": {},
     "output_type": "display_data"
    },
    {
     "name": "stdout",
     "output_type": "stream",
     "text": [
      "Calculation completed.\n"
     ]
    }
   ],
   "source": [
    "## Aux function\n",
    "\n",
    "def fshape(dataframe1):\n",
    "    print('Shape : ', dataframe1.count(), len(dataframe1.columns))\n",
    "\n",
    "def fhead(dataframe1, num_records=3):\n",
    "\t## Show all columns - pandas dataframe\n",
    "\t# import pandas as pd\n",
    "\t# pd.options.display.max_columns = None\n",
    "\n",
    "    return dataframe1.limit(num_records).toPandas()\n",
    "\n",
    "def fsummary(dataframe1):\n",
    "    return dataframe1.summary().toPandas()"
   ]
  },
  {
   "cell_type": "markdown",
   "id": "6c1f4718",
   "metadata": {},
   "source": [
    "### Quick info related to the dataset\n",
    "Original dataset - converted to Parquet (typical file format stored in S3)\n",
    "- https://archive.ics.uci.edu/ml/datasets/online+retail"
   ]
  },
  {
   "cell_type": "code",
   "execution_count": 22,
   "id": "3ed05caf",
   "metadata": {},
   "outputs": [
    {
     "name": "stdout",
     "output_type": "stream",
     "text": [
      "Calculation started (calculation_id=32c36bad-0567-6ef1-b954-53f4c44642f9) in (session=e8c36baa-8d81-376a-9f0d-b27954f00d24). Checking calculation status...\n"
     ]
    },
    {
     "data": {
      "application/vnd.jupyter.widget-view+json": {
       "model_id": "b671b27be2e44b7aa9ff089e5085e707",
       "version_major": 2,
       "version_minor": 0
      },
      "text/plain": [
       "Progress:   0%|          |elapsed time = 00:00s"
      ]
     },
     "metadata": {},
     "output_type": "display_data"
    },
    {
     "name": "stdout",
     "output_type": "stream",
     "text": [
      "Calculation completed.\n"
     ]
    }
   ],
   "source": [
    "s3_bucket = 's3://S3_BUCKET_NAME/'\n",
    "parquet_file_name = 'S3_NAME_DIR/data_input/OnlineRetail__AWS.parquet'\n",
    "\n",
    "s3_filename = s3_bucket + parquet_file_name"
   ]
  },
  {
   "cell_type": "code",
   "execution_count": 7,
   "id": "7d206a1c",
   "metadata": {},
   "outputs": [],
   "source": [
    "#### SETUP ACCESS - IAM ROLE \n",
    "# # - sample AWSAthenaSparkExecutionRole-xpto DEV environment\n",
    "# - Give the production access acording with company security policies\n",
    "\n",
    "# {\n",
    "#             \"Effect\": \"Allow\",\n",
    "#             \"Action\": [\n",
    "#                 \"s3:*\"\n",
    "#             ],\n",
    "#             \"Resource\": \"*\"\n",
    "#         },\n",
    "\n",
    "# {\n",
    "#              \"Sid\": \"VisualEditor11\",\n",
    "#             \"Effect\": \"Allow\",\n",
    "#             \"Action\": \"glue:*\",\n",
    "#             \"Resource\": \"*\"\n",
    "# },"
   ]
  },
  {
   "cell_type": "code",
   "execution_count": 23,
   "id": "a2010ebc",
   "metadata": {},
   "outputs": [
    {
     "name": "stdout",
     "output_type": "stream",
     "text": [
      "Calculation started (calculation_id=94c36bad-0697-9c3b-2c93-a31836df5dbd) in (session=e8c36baa-8d81-376a-9f0d-b27954f00d24). Checking calculation status...\n"
     ]
    },
    {
     "data": {
      "application/vnd.jupyter.widget-view+json": {
       "model_id": "9d2abfbf5c3d4ac3a3ae6d19bb2b754d",
       "version_major": 2,
       "version_minor": 0
      },
      "text/plain": [
       "Progress:   0%|          |elapsed time = 00:00s"
      ]
     },
     "metadata": {},
     "output_type": "display_data"
    },
    {
     "name": "stdout",
     "output_type": "stream",
     "text": [
      "Calculation completed.\n",
      "Shape :  541909 8\n",
      "  InvoiceNo StockCode  ... CustomerID         Country\n",
      "0    536365    85123A  ...    17850.0  United Kingdom\n",
      "1    536365     71053  ...    17850.0  United Kingdom\n",
      "2    536365    84406B  ...    17850.0  United Kingdom\n",
      "\n",
      "[3 rows x 8 columns]\n",
      "\n"
     ]
    }
   ],
   "source": [
    "## read local file\n",
    "sdf = spark.read.parquet(s3_filename)\n",
    "# sdf.printSchema()\n",
    "\n",
    "fshape(sdf)\n",
    "fhead(sdf)"
   ]
  },
  {
   "cell_type": "markdown",
   "id": "b680d2d0",
   "metadata": {},
   "source": [
    "#### Create dataset with customer purchase history and apply CLV formula\n",
    "- customer_id\n",
    "- invoice_date\n",
    "- revenue : monetary value"
   ]
  },
  {
   "cell_type": "code",
   "execution_count": 24,
   "id": "743f5b1f",
   "metadata": {},
   "outputs": [
    {
     "name": "stdout",
     "output_type": "stream",
     "text": [
      "Calculation started (calculation_id=6ac36bad-1c43-7f23-e50f-a121f82c4e3b) in (session=e8c36baa-8d81-376a-9f0d-b27954f00d24). Checking calculation status...\n"
     ]
    },
    {
     "data": {
      "application/vnd.jupyter.widget-view+json": {
       "model_id": "3025b4991c274823822e5496f765e4b1",
       "version_major": 2,
       "version_minor": 0
      },
      "text/plain": [
       "Progress:   0%|          |elapsed time = 00:00s"
      ]
     },
     "metadata": {},
     "output_type": "display_data"
    },
    {
     "name": "stdout",
     "output_type": "stream",
     "text": [
      "Calculation completed.\n",
      "+-------------------------+----------+\n",
      "|current_date_for_FRMV_CLV| not_today|\n",
      "+-------------------------+----------+\n",
      "|               2011-12-09|2023-03-12|\n",
      "+-------------------------+----------+\n",
      "\n"
     ]
    }
   ],
   "source": [
    "sdf.createOrReplaceTempView('TB_SALES_SDF')\n",
    "spark.sql('select max(TO_DATE(InvoiceDate)) as current_date_for_FRMV_CLV, current_date as not_today from TB_SALES_SDF').show()"
   ]
  },
  {
   "cell_type": "markdown",
   "id": "cc4362ba",
   "metadata": {},
   "source": [
    "### Information to understand the formula\n",
    "The formula to calculates: <b> Customer Lifetime Value (CLV) using the FRM (Frequency, Recency, Monetary Value) approach with a discount rate of 10% </b>.\n",
    "- monetary_value: the total monetary value spent by the customer.\n",
    "- frequency: the frequency of customer purchases, i.e., how many times they made a purchase.\n",
    "- recency_dt: the recency of the customer's purchases, i.e., how many days ago they made their last purchase.\n",
    "- 365: the number of days in a year.\n",
    "- 0.1: the discount rate used to calculate the present value of future cash flows.\n",
    "\n",
    "#### The formula itself consists of three parts:\n",
    "\n",
    "- (monetary_value / frequency): this part calculates the average value of each purchase made by the customer.\n",
    "- (1 - ((recency + 1) / 365)): this part calculates the probability of the customer returning to make a purchase based on the time since their last purchase. The longer the time since the last purchase, the lower the probability of the customer returning to make a purchase.\n",
    "- / (1 + discount): this part applies the discount rate to calculate the present value of future cash flows."
   ]
  },
  {
   "cell_type": "code",
   "execution_count": 25,
   "id": "846bcd8a",
   "metadata": {},
   "outputs": [
    {
     "name": "stdout",
     "output_type": "stream",
     "text": [
      "Calculation started (calculation_id=bcc36bad-3209-2f90-8673-2ed6a6c99f91) in (session=e8c36baa-8d81-376a-9f0d-b27954f00d24). Checking calculation status...\n"
     ]
    },
    {
     "data": {
      "application/vnd.jupyter.widget-view+json": {
       "model_id": "30795fe854944f6490769fd89557fc38",
       "version_major": 2,
       "version_minor": 0
      },
      "text/plain": [
       "Progress:   0%|          |elapsed time = 00:00s"
      ]
     },
     "metadata": {},
     "output_type": "display_data"
    },
    {
     "name": "stdout",
     "output_type": "stream",
     "text": [
      "Calculation completed.\n",
      "Catalog Entry:\n",
      "Function(name='fnc_customer_clv_udf', description=None, className='org.apache.spark.sql.UDFRegistration$$Lambda$4575/40860001', isTemporary=True)\n",
      "[None]\n",
      "\n"
     ]
    }
   ],
   "source": [
    "## formula to calculate CLV \n",
    "def fnc_customer_clv_udf(monetary_value_f, frequency_f, recency_f, discount_f=0.1):\n",
    "    return round ( ( (monetary_value_f / frequency_f) * (1 - ((recency_f + 1) / 365)) / (1 + discount_f) ) , 2)\n",
    "\n",
    "## Register the formula to be used by Spark-SQL\n",
    "from pyspark.sql.types import FloatType\n",
    "\n",
    "spark.udf.register('fnc_customer_clv_udf', fnc_customer_clv_udf, FloatType())\n",
    "\n",
    "print(\"Catalog Entry:\")\n",
    "[print(r) for r in spark.catalog.listFunctions() if \"fnc_customer_clv_udf\" in r.name]"
   ]
  },
  {
   "cell_type": "code",
   "execution_count": 26,
   "id": "38034371",
   "metadata": {},
   "outputs": [
    {
     "name": "stdout",
     "output_type": "stream",
     "text": [
      "Calculation started (calculation_id=70c36bad-3fba-3876-0405-adf94009a3a6) in (session=e8c36baa-8d81-376a-9f0d-b27954f00d24). Checking calculation status...\n"
     ]
    },
    {
     "data": {
      "application/vnd.jupyter.widget-view+json": {
       "model_id": "b4b292cc40a04f80af58fed3041b2ff6",
       "version_major": 2,
       "version_minor": 0
      },
      "text/plain": [
       "Progress:   0%|          |elapsed time = 00:00s"
      ]
     },
     "metadata": {},
     "output_type": "display_data"
    },
    {
     "name": "stdout",
     "output_type": "stream",
     "text": [
      "Calculation completed.\n",
      "root\n",
      " |-- customer_id: double (nullable = true)\n",
      " |-- frequency: long (nullable = false)\n",
      " |-- recency_now: integer (nullable = true)\n",
      " |-- monetary_value: double (nullable = true)\n",
      " |-- avg_revenue: double (nullable = true)\n",
      " |-- dt_first_Invoice: timestamp (nullable = true)\n",
      " |-- dt_last_Invoice: timestamp (nullable = true)\n",
      " |-- recency_dt: float (nullable = true)\n",
      " |-- CLV_SQL: double (nullable = true)\n",
      " |-- CLV_UDF: float (nullable = true)\n",
      "\n"
     ]
    }
   ],
   "source": [
    "## Apply some filters and create the main customer purchase history as an example\n",
    "sql_query_clv = \"\"\"\n",
    "WITH TB_SALES_V AS\n",
    "(\n",
    "    SELECT CustomerID as customer_id\n",
    "        , COUNT(DISTINCT (InvoiceDate))  as frequency\n",
    "        , DATEDIFF( current_date , MAX (InvoiceDate) )  as recency_now\n",
    "        , ROUND(SUM(Quantity * UnitPrice), 2) as monetary_value\n",
    "        , ROUND(avg(Quantity * UnitPrice), 2) as avg_revenue\n",
    "        , MIN(InvoiceDate) as dt_first_Invoice\n",
    "        , MAX(InvoiceDate) as dt_last_Invoice\n",
    "        -- , ROUND(AVG(Quantity), 2) as avg_items\n",
    "        -- , ROUND(SUM(Quantity), 2) as total_items\n",
    "    FROM TB_SALES_SDF\n",
    "    WHERE 1 = 1\n",
    "        AND InvoiceDate IS NOT NULL\n",
    "        AND Quantity > 0\n",
    "        AND UnitPrice > 0\n",
    "    GROUP BY customer_id\n",
    ")\n",
    "SELECT tb3.*\n",
    "  , ROUND ( ( (monetary_value / frequency) * (1 - ((recency_dt + 1) / 365)) / (1 + 0.1) ) , 2) AS CLV_SQL -- discount of 0.1\n",
    "  , fnc_customer_clv_udf(monetary_value,frequency,recency_dt) AS CLV_UDF\n",
    "FROM (\n",
    "    SELECT tb1.*\n",
    "        , CAST( DATEDIFF(tb2.dt_current_date , tb1.dt_last_Invoice ) as float) as recency_dt\n",
    "    FROM TB_SALES_V as tb1\n",
    "    CROSS JOIN (SELECT MAX(dt_last_Invoice) AS dt_current_date FROM TB_SALES_V) tb2\n",
    "    ) tb3\n",
    "WHERE 1 = 1\n",
    "  AND monetary_value > 0\n",
    "  AND frequency > 0\n",
    "  AND customer_id IS NOT NULL\n",
    "ORDER BY monetary_value DESC\n",
    "\"\"\"\n",
    "\n",
    "sdf_clv = spark.sql(sql_query_clv)\n",
    "sdf_clv.printSchema()"
   ]
  },
  {
   "cell_type": "code",
   "execution_count": 27,
   "id": "2b9a74e8",
   "metadata": {},
   "outputs": [
    {
     "name": "stdout",
     "output_type": "stream",
     "text": [
      "Calculation started (calculation_id=82c36bad-451b-27e6-dedb-6bc9a7c3787b) in (session=e8c36baa-8d81-376a-9f0d-b27954f00d24). Checking calculation status...\n"
     ]
    },
    {
     "data": {
      "application/vnd.jupyter.widget-view+json": {
       "model_id": "ce2e490708e24c878f8d07828d680337",
       "version_major": 2,
       "version_minor": 0
      },
      "text/plain": [
       "Progress:   0%|          |elapsed time = 00:00s"
      ]
     },
     "metadata": {},
     "output_type": "display_data"
    },
    {
     "name": "stdout",
     "output_type": "stream",
     "text": [
      "Calculation completed.\n",
      "clv_SQL and clv_udf provide the same information - just show how to implement it using 2 solutions... SQL and UDF\n",
      "   customer_id  frequency  recency_now  ...  recency_dt   CLV_SQL       CLV_UDF\n",
      "0      14646.0         51         4112  ...         1.0   3555.12   3555.120117\n",
      "1      16446.0          2         4111  ...         0.0  76368.60  76368.601562\n",
      "2      17450.0         27         4121  ...        10.0   3961.80   3961.800049\n",
      "\n",
      "[3 rows x 10 columns]\n",
      "\n"
     ]
    }
   ],
   "source": [
    "print('clv_SQL and clv_udf provide the same information - just show how to implement it using 2 solutions... SQL and UDF')\n",
    "fhead(sdf_clv)"
   ]
  },
  {
   "cell_type": "markdown",
   "id": "adf0c4af",
   "metadata": {},
   "source": [
    "## Machine Learning - Customer segmentation and plot\n",
    "- Predictive Power (KI) = 0.741 and Prediction Confidence (KR) = 0.917"
   ]
  },
  {
   "cell_type": "code",
   "execution_count": 28,
   "id": "2b58412b",
   "metadata": {},
   "outputs": [
    {
     "name": "stdout",
     "output_type": "stream",
     "text": [
      "Calculation started (calculation_id=56c36bad-5f27-88a5-f8f2-31933f1a67bb) in (session=e8c36baa-8d81-376a-9f0d-b27954f00d24). Checking calculation status...\n"
     ]
    },
    {
     "data": {
      "application/vnd.jupyter.widget-view+json": {
       "model_id": "0786f5f5b0d34b6a882146437cc18ad2",
       "version_major": 2,
       "version_minor": 0
      },
      "text/plain": [
       "Progress:   0%|          |elapsed time = 00:00s"
      ]
     },
     "metadata": {},
     "output_type": "display_data"
    },
    {
     "name": "stdout",
     "output_type": "stream",
     "text": [
      "Calculation completed.\n"
     ]
    }
   ],
   "source": [
    "sdf_clv.createOrReplaceTempView('TB_CLV_SDF')"
   ]
  },
  {
   "cell_type": "code",
   "execution_count": 29,
   "id": "04f2ee65",
   "metadata": {},
   "outputs": [
    {
     "name": "stdout",
     "output_type": "stream",
     "text": [
      "Calculation started (calculation_id=e2c36bad-6478-03b8-4206-a91940d6c77c) in (session=e8c36baa-8d81-376a-9f0d-b27954f00d24). Checking calculation status...\n"
     ]
    },
    {
     "data": {
      "application/vnd.jupyter.widget-view+json": {
       "model_id": "7e5bd311be30486ea74b44b31a2703b9",
       "version_major": 2,
       "version_minor": 0
      },
      "text/plain": [
       "Progress:   0%|          |elapsed time = 00:00s"
      ]
     },
     "metadata": {},
     "output_type": "display_data"
    },
    {
     "name": "stdout",
     "output_type": "stream",
     "text": [
      "Calculation completed.\n"
     ]
    }
   ],
   "source": [
    "def ml_sql_prediction():\n",
    "    text_sql_ml2 = \"\"\"\n",
    "    SELECT \n",
    "        TB_CLV_SDF.*,\n",
    "        ( CASE\n",
    "        WHEN ( ((abs(`frequency` - 7.0e0) <= 10e-9) OR  ( `frequency`  >= 8.0e0 AND `frequency`  <= 1.3e1 ) ) AND ((abs(month(`dt_first_Invoice`) - 1.0e0) <= 10e-9) OR (abs(month(`dt_first_Invoice`) - 2.0e0) <= 10e-9) OR (abs(month(`dt_first_Invoice`) - 3.0e0) <= 10e-9) OR (abs(month(`dt_first_Invoice`) - 4.0e0) <= 10e-9) OR (abs(month(`dt_first_Invoice`) - 5.0e0) <= 10e-9) OR (abs(month(`dt_first_Invoice`) - 6.0e0) <= 10e-9) OR (abs(month(`dt_first_Invoice`) - 8.0e0) <= 10e-9) OR (abs(month(`dt_first_Invoice`) - 1.0e1) <= 10e-9) ) ) THEN 4\n",
    "        WHEN ( ( ( `recency_now`  >= 4.109e3 AND `recency_now`  <= 4.113e3 ) ) AND ((abs(`frequency` - 6.0e0) <= 10e-9) OR (abs(`frequency` - 7.0e0) <= 10e-9) OR  ( `frequency`  >= 8.0e0 AND `frequency`  <= 1.3e1 ) ) ) THEN 9\n",
    "        WHEN ( ((abs(year(`dt_first_Invoice`) - 2.01e3) <= 10e-9) OR ( (`dt_first_Invoice` IS NULL ) ) ) AND ((abs(`frequency` - 1.0e0) <= 10e-9) OR (abs(`frequency` - 2.0e0) <= 10e-9) OR (abs(`frequency` - 3.0e0) <= 10e-9) OR (abs(`frequency` - 4.0e0) <= 10e-9) OR (abs(`frequency` - 5.0e0) <= 10e-9) OR (abs(`frequency` - 6.0e0) <= 10e-9) OR ( (`frequency` IS NULL ) ) ) AND ( ( (datediff(concat(year(`dt_last_Invoice`),'-',month(`dt_last_Invoice`),'-',day(`dt_last_Invoice`)),concat(year(`dt_last_Invoice`),'-01-01')) + 1)  >= 4.0e0 AND (datediff(concat(year(`dt_last_Invoice`),'-',month(`dt_last_Invoice`),'-',day(`dt_last_Invoice`)),concat(year(`dt_last_Invoice`),'-01-01')) + 1)  <= 3.4e2 ) OR ( (`dt_last_Invoice` IS NULL ) ) ) ) THEN 2\n",
    "        WHEN ( ((abs(`frequency` - 7.0e0) <= 10e-9) OR  ( `frequency`  >= 8.0e0 AND `frequency`  <= 1.3e1 ) ) AND ((abs(year(`dt_first_Invoice`) - 2.01e3) <= 10e-9) OR ( (`dt_first_Invoice` IS NULL ) ) ) ) THEN 1\n",
    "        WHEN ( ( ( `frequency`  > 1.0e1 AND `frequency`  <= 1.14e2 ) ) ) THEN 10\n",
    "        WHEN ( ( ( `recency_now`  >= 4.109e3 AND `recency_now`  <= 4.113e3 ) ) AND ((abs(`frequency` - 1.0e0) <= 10e-9) OR (abs(`frequency` - 2.0e0) <= 10e-9) OR (abs(`frequency` - 3.0e0) <= 10e-9) OR (abs(`frequency` - 4.0e0) <= 10e-9) OR (abs(`frequency` - 5.0e0) <= 10e-9) OR (abs(`frequency` - 6.0e0) <= 10e-9) OR ( (`frequency` IS NULL ) ) ) ) THEN 5\n",
    "        WHEN ( ((abs(month(`dt_last_Invoice`) - 1.0e0) <= 10e-9) OR (abs(month(`dt_last_Invoice`) - 2.0e0) <= 10e-9) OR (abs(month(`dt_last_Invoice`) - 3.0e0) <= 10e-9) OR (abs(month(`dt_last_Invoice`) - 4.0e0) <= 10e-9) OR (abs(month(`dt_last_Invoice`) - 5.0e0) <= 10e-9) OR (abs(month(`dt_last_Invoice`) - 6.0e0) <= 10e-9) OR (abs(month(`dt_last_Invoice`) - 7.0e0) <= 10e-9) OR (abs(month(`dt_last_Invoice`) - 8.0e0) <= 10e-9) OR (abs(month(`dt_last_Invoice`) - 9.0e0) <= 10e-9) ) AND ((abs(day(`dt_last_Invoice`) - 1.0e0) <= 10e-9) OR  ( day(`dt_last_Invoice`)  >= 2.0e0 AND day(`dt_last_Invoice`)  <= 3.0e0 ) OR (abs(day(`dt_last_Invoice`) - 4.0e0) <= 10e-9) OR (abs(day(`dt_last_Invoice`) - 5.0e0) <= 10e-9) OR  ( day(`dt_last_Invoice`)  >= 9.0e0 AND day(`dt_last_Invoice`)  <= 1.0e1 ) OR (abs(day(`dt_last_Invoice`) - 1.1e1) <= 10e-9) OR  ( day(`dt_last_Invoice`)  >= 1.2e1 AND day(`dt_last_Invoice`)  <= 1.3e1 ) OR (abs(day(`dt_last_Invoice`) - 1.4e1) <= 10e-9) OR  ( day(`dt_last_Invoice`)  >= 1.5e1 AND day(`dt_last_Invoice`)  <= 1.6e1 ) OR  ( day(`dt_last_Invoice`)  >= 1.7e1 AND day(`dt_last_Invoice`)  <= 1.8e1 ) OR  ( day(`dt_last_Invoice`)  >= 1.9e1 AND day(`dt_last_Invoice`)  <= 2.0e1 ) OR (abs(day(`dt_last_Invoice`) - 2.1e1) <= 10e-9) OR (abs(day(`dt_last_Invoice`) - 2.2e1) <= 10e-9) OR  ( day(`dt_last_Invoice`)  >= 2.3e1 AND day(`dt_last_Invoice`)  <= 2.4e1 ) OR  ( day(`dt_last_Invoice`)  >= 2.5e1 AND day(`dt_last_Invoice`)  <= 2.7e1 ) OR  ( day(`dt_last_Invoice`)  >= 2.8e1 AND day(`dt_last_Invoice`)  <= 3.1e1 ) OR ( (`dt_last_Invoice` IS NULL ) ) ) AND ((abs(year(`dt_first_Invoice`) - 2.011e3) <= 10e-9) ) ) THEN 6\n",
    "        WHEN ( ((abs(day(`dt_last_Invoice`) - 6.0e0) <= 10e-9) OR (abs(day(`dt_last_Invoice`) - 7.0e0) <= 10e-9) OR (abs(day(`dt_last_Invoice`) - 8.0e0) <= 10e-9) OR  ( day(`dt_last_Invoice`)  >= 9.0e0 AND day(`dt_last_Invoice`)  <= 1.0e1 ) ) AND ( ( (datediff(concat(year(`dt_last_Invoice`),'-',month(`dt_last_Invoice`),'-',day(`dt_last_Invoice`)),concat(year(`dt_last_Invoice`),'-01-01')) + 1)  >= 4.0e0 AND (datediff(concat(year(`dt_last_Invoice`),'-',month(`dt_last_Invoice`),'-',day(`dt_last_Invoice`)),concat(year(`dt_last_Invoice`),'-01-01')) + 1)  <= 2.52e2 ) OR  ( (datediff(concat(year(`dt_last_Invoice`),'-',month(`dt_last_Invoice`),'-',day(`dt_last_Invoice`)),concat(year(`dt_last_Invoice`),'-01-01')) + 1)  > 2.79e2 AND (datediff(concat(year(`dt_last_Invoice`),'-',month(`dt_last_Invoice`),'-',day(`dt_last_Invoice`)),concat(year(`dt_last_Invoice`),'-01-01')) + 1)  <= 2.91e2 ) OR  ( (datediff(concat(year(`dt_last_Invoice`),'-',month(`dt_last_Invoice`),'-',day(`dt_last_Invoice`)),concat(year(`dt_last_Invoice`),'-01-01')) + 1)  > 3.08e2 AND (datediff(concat(year(`dt_last_Invoice`),'-',month(`dt_last_Invoice`),'-',day(`dt_last_Invoice`)),concat(year(`dt_last_Invoice`),'-01-01')) + 1)  <= 3.13e2 ) OR ( (`dt_last_Invoice` IS NULL ) ) ) ) THEN 7\n",
    "        WHEN ( ( ( (datediff(concat(year(`dt_last_Invoice`),'-',month(`dt_last_Invoice`),'-',day(`dt_last_Invoice`)),concat(year(`dt_last_Invoice`),'-01-01')) + 1)  > 2.65e2 AND (datediff(concat(year(`dt_last_Invoice`),'-',month(`dt_last_Invoice`),'-',day(`dt_last_Invoice`)),concat(year(`dt_last_Invoice`),'-01-01')) + 1)  <= 3.08e2 ) OR  ( (datediff(concat(year(`dt_last_Invoice`),'-',month(`dt_last_Invoice`),'-',day(`dt_last_Invoice`)),concat(year(`dt_last_Invoice`),'-01-01')) + 1)  > 3.13e2 AND (datediff(concat(year(`dt_last_Invoice`),'-',month(`dt_last_Invoice`),'-',day(`dt_last_Invoice`)),concat(year(`dt_last_Invoice`),'-01-01')) + 1)  <= 3.28e2 ) ) AND ((abs(`frequency` - 1.0e0) <= 10e-9) OR (abs(`frequency` - 2.0e0) <= 10e-9) OR (abs(`frequency` - 3.0e0) <= 10e-9) OR (abs(`frequency` - 4.0e0) <= 10e-9) OR ( (`frequency` IS NULL ) ) ) AND ((abs(month(`dt_last_Invoice`) - 1.0e1) <= 10e-9) OR (abs(month(`dt_last_Invoice`) - 1.1e1) <= 10e-9) OR ( (`dt_last_Invoice` IS NULL ) ) ) ) THEN 8\n",
    "        WHEN ( ( ( `recency_now`  >= 4.112e3 AND `recency_now`  <= 4.152e3 ) OR  ( `recency_now`  > 4.434e3 AND `recency_now`  <= 4.483e3 ) ) AND ((abs(`frequency` - 1.0e0) <= 10e-9) OR (abs(`frequency` - 2.0e0) <= 10e-9) OR (abs(`frequency` - 3.0e0) <= 10e-9) OR (abs(`frequency` - 4.0e0) <= 10e-9) OR (abs(`frequency` - 5.0e0) <= 10e-9) OR (abs(`frequency` - 6.0e0) <= 10e-9) OR ( (`frequency` IS NULL ) ) ) AND ((abs(month(`dt_last_Invoice`) - 1.1e1) <= 10e-9) OR (abs(month(`dt_last_Invoice`) - 1.2e1) <= 10e-9) OR ( (`dt_last_Invoice` IS NULL ) ) ) ) THEN 3\n",
    "        ELSE 11\n",
    "        END ) AS kc_monetary_value \t\n",
    "    FROM TB_CLV_SDF\n",
    "\"\"\"\n",
    "    return text_sql_ml2"
   ]
  },
  {
   "cell_type": "code",
   "execution_count": 30,
   "id": "db0d0ca0",
   "metadata": {},
   "outputs": [
    {
     "name": "stdout",
     "output_type": "stream",
     "text": [
      "Calculation started (calculation_id=6cc36bad-65e0-be8e-043b-cb178704f702) in (session=e8c36baa-8d81-376a-9f0d-b27954f00d24). Checking calculation status...\n"
     ]
    },
    {
     "data": {
      "application/vnd.jupyter.widget-view+json": {
       "model_id": "e150077b78394e92b6acc2548544ae8a",
       "version_major": 2,
       "version_minor": 0
      },
      "text/plain": [
       "Progress:   0%|          |elapsed time = 00:00s"
      ]
     },
     "metadata": {},
     "output_type": "display_data"
    },
    {
     "name": "stdout",
     "output_type": "stream",
     "text": [
      "Calculation completed.\n",
      "root\n",
      " |-- customer_id: double (nullable = true)\n",
      " |-- frequency: long (nullable = false)\n",
      " |-- recency_now: integer (nullable = true)\n",
      " |-- monetary_value: double (nullable = true)\n",
      " |-- avg_revenue: double (nullable = true)\n",
      " |-- dt_first_Invoice: timestamp (nullable = true)\n",
      " |-- dt_last_Invoice: timestamp (nullable = true)\n",
      " |-- recency_dt: float (nullable = true)\n",
      " |-- CLV_SQL: double (nullable = true)\n",
      " |-- CLV_UDF: float (nullable = true)\n",
      " |-- kc_monetary_value: integer (nullable = false)\n",
      "\n",
      "-RECORD 0--------------------------------\n",
      " customer_id       | 14646.0             \n",
      " frequency         | 51                  \n",
      " recency_now       | 4112                \n",
      " monetary_value    | 200541.0            \n",
      " avg_revenue       | 137.36              \n",
      " dt_first_Invoice  | 2010-12-20 10:09:00 \n",
      " dt_last_Invoice   | 2011-12-08 00:12:00 \n",
      " recency_dt        | 1.0                 \n",
      " CLV_SQL           | 3555.12             \n",
      " CLV_UDF           | 3555.12             \n",
      " kc_monetary_value | 10                  \n",
      "-RECORD 1--------------------------------\n",
      " customer_id       | 16446.0             \n",
      " frequency         | 2                   \n",
      " recency_now       | 4111                \n",
      " monetary_value    | 168472.49           \n",
      " avg_revenue       | 56157.5             \n",
      " dt_first_Invoice  | 2011-05-18 09:52:00 \n",
      " dt_last_Invoice   | 2011-12-09 09:15:00 \n",
      " recency_dt        | 0.0                 \n",
      " CLV_SQL           | 76368.6             \n",
      " CLV_UDF           | 76368.6             \n",
      " kc_monetary_value | 5                   \n",
      "-RECORD 2--------------------------------\n",
      " customer_id       | 17450.0             \n",
      " frequency         | 27                  \n",
      " recency_now       | 4121                \n",
      " monetary_value    | 121321.71           \n",
      " avg_revenue       | 588.94              \n",
      " dt_first_Invoice  | 2010-12-07 09:23:00 \n",
      " dt_last_Invoice   | 2011-11-29 09:56:00 \n",
      " recency_dt        | 10.0                \n",
      " CLV_SQL           | 3961.8              \n",
      " CLV_UDF           | 3961.8              \n",
      " kc_monetary_value | 10                  \n",
      "only showing top 3 rows\n",
      "\n"
     ]
    }
   ],
   "source": [
    "ml_spark = ml_sql_prediction()\n",
    "\n",
    "sdf_ml = spark.sql(ml_spark)\n",
    "\n",
    "sdf_ml.printSchema()\n",
    "# fhead(sdf_ml)\n",
    "sdf_ml.show(3, vertical=True)"
   ]
  },
  {
   "cell_type": "code",
   "execution_count": 31,
   "id": "884ded3c",
   "metadata": {},
   "outputs": [
    {
     "name": "stdout",
     "output_type": "stream",
     "text": [
      "Calculation started (calculation_id=fec36bad-7ff1-bfc0-2e02-af610ef7f64c) in (session=e8c36baa-8d81-376a-9f0d-b27954f00d24). Checking calculation status...\n"
     ]
    },
    {
     "data": {
      "application/vnd.jupyter.widget-view+json": {
       "model_id": "42569959ad2c46c0bfaa19b83edadcb9",
       "version_major": 2,
       "version_minor": 0
      },
      "text/plain": [
       "Progress:   0%|          |elapsed time = 00:00s"
      ]
     },
     "metadata": {},
     "output_type": "display_data"
    },
    {
     "name": "stdout",
     "output_type": "stream",
     "text": [
      "Calculation completed.\n",
      "   customer_id  frequency  recency_now  ...  recency_dt   CLV_SQL       CLV_UDF\n",
      "0      14646.0         51         4112  ...         1.0   3555.12   3555.120117\n",
      "1      16446.0          2         4111  ...         0.0  76368.60  76368.601562\n",
      "2      17450.0         27         4121  ...        10.0   3961.80   3961.800049\n",
      "3      18102.0         30         4111  ...         0.0   3362.27   3362.270020\n",
      "\n",
      "[4 rows x 10 columns]\n",
      "\n"
     ]
    }
   ],
   "source": [
    "fhead(sdf_clv,num_records=4)"
   ]
  },
  {
   "cell_type": "code",
   "execution_count": 32,
   "id": "07fce724",
   "metadata": {},
   "outputs": [
    {
     "name": "stdout",
     "output_type": "stream",
     "text": [
      "Calculation started (calculation_id=ccc36bad-9a1c-a2c7-57e2-bb5d12d648c3) in (session=e8c36baa-8d81-376a-9f0d-b27954f00d24). Checking calculation status...\n"
     ]
    },
    {
     "data": {
      "application/vnd.jupyter.widget-view+json": {
       "model_id": "eb22966452e04adbb1df26c02379b17d",
       "version_major": 2,
       "version_minor": 0
      },
      "text/plain": [
       "Progress:   0%|          |elapsed time = 00:00s"
      ]
     },
     "metadata": {},
     "output_type": "display_data"
    },
    {
     "name": "stdout",
     "output_type": "stream",
     "text": [
      "Calculation completed.\n"
     ]
    }
   ],
   "source": [
    "parquet_file_name_export = 'S3_NAME_DIR/data_output/OnlineRetail__AWS.parquet'"
   ]
  },
  {
   "cell_type": "code",
   "execution_count": 33,
   "id": "ca4ea436",
   "metadata": {},
   "outputs": [
    {
     "name": "stdout",
     "output_type": "stream",
     "text": [
      "Calculation started (calculation_id=22c36bad-9b64-370b-d462-f45aff9423c5) in (session=e8c36baa-8d81-376a-9f0d-b27954f00d24). Checking calculation status...\n"
     ]
    },
    {
     "data": {
      "application/vnd.jupyter.widget-view+json": {
       "model_id": "b39f3f305cf240af8f188569003a50f8",
       "version_major": 2,
       "version_minor": 0
      },
      "text/plain": [
       "Progress:   0%|          |elapsed time = 00:00s"
      ]
     },
     "metadata": {},
     "output_type": "display_data"
    },
    {
     "name": "stdout",
     "output_type": "stream",
     "text": [
      "Calculation completed.\n"
     ]
    }
   ],
   "source": [
    "## Export as parquet file\n",
    "# sdf_clv.write.mode('overwrite').parquet('./data_output/OnlineRetail__AWS_FRMV.parquet')\n",
    "s3_export_file = s3_bucket + parquet_file_name_export\n",
    "\n",
    "sdf_clv.write.mode('overwrite').parquet(s3_export_file)"
   ]
  },
  {
   "cell_type": "markdown",
   "id": "4283e70b",
   "metadata": {},
   "source": [
    "#### Plot and Report sample"
   ]
  },
  {
   "cell_type": "code",
   "execution_count": 34,
   "id": "cc66c89f",
   "metadata": {},
   "outputs": [
    {
     "name": "stdout",
     "output_type": "stream",
     "text": [
      "Calculation started (calculation_id=24c36bad-b976-b10e-19a2-4a84cf9265f4) in (session=e8c36baa-8d81-376a-9f0d-b27954f00d24). Checking calculation status...\n"
     ]
    },
    {
     "data": {
      "application/vnd.jupyter.widget-view+json": {
       "model_id": "365d2403a97d4af48d29f0d8738d3221",
       "version_major": 2,
       "version_minor": 0
      },
      "text/plain": [
       "Progress:   0%|          |elapsed time = 00:00s"
      ]
     },
     "metadata": {},
     "output_type": "display_data"
    },
    {
     "name": "stdout",
     "output_type": "stream",
     "text": [
      "Calculation completed.\n",
      "+--------------+--------------------+-------+------------------+\n",
      "|cluster_number|percent_of_customers|avg_clv|avg_monetary_value|\n",
      "+--------------+--------------------+-------+------------------+\n",
      "|             5|                2.34|1421.17|           3358.97|\n",
      "|            10|                2.44| 655.37|          19804.38|\n",
      "|             4|                3.27| 406.42|           4364.46|\n",
      "|             1|                2.92|  381.8|           4220.83|\n",
      "|             9|                1.06| 368.59|           3599.54|\n",
      "|             8|                22.0|  302.7|            747.79|\n",
      "|            11|                0.22| 292.02|           2031.47|\n",
      "|             3|               10.87| 265.01|           1024.83|\n",
      "|             7|                 8.5| 214.13|            675.68|\n",
      "|             2|                8.47|  201.7|           1180.36|\n",
      "|             6|               37.91|  192.5|            703.28|\n",
      "+--------------+--------------------+-------+------------------+\n",
      "\n"
     ]
    }
   ],
   "source": [
    "sdf_ml.createOrReplaceTempView('TB_CLV_SDF_ML')\n",
    "\n",
    "ml_rpt_sql = \"\"\"\n",
    "WITH TB_CLUSTER AS \n",
    "(\n",
    "    select kc_monetary_value as cluster_number\n",
    "    , count(distinct customer_id) as customer_count\n",
    "    , avg(clv_sql) avg_clv\n",
    "    , avg(monetary_value) avg_monetary_value\n",
    "    -- , count(*) as qty_records\n",
    "    FROM TB_CLV_SDF_ML\n",
    "    group by kc_monetary_value\n",
    ")\n",
    "SELECT cluster_number\n",
    "--    , customer_count\n",
    "    , ROUND( customer_count / (select sum(customer_count) from TB_CLUSTER ) * 100, 2) as percent_of_customers\n",
    "    , ROUND( avg_clv, 2) as avg_clv\n",
    "    , ROUND( avg_monetary_value, 2) as avg_monetary_value\n",
    "FROM TB_CLUSTER tb1\n",
    "order by avg_clv desc\n",
    "\"\"\"\n",
    "\n",
    "sdf_ml_rpt = spark.sql(ml_rpt_sql) \n",
    "# sdf_ml_rpt.printSchema()\n",
    "sdf_ml_rpt.show()"
   ]
  },
  {
   "cell_type": "markdown",
   "id": "5d9383fb",
   "metadata": {},
   "source": [
    "#### Plot"
   ]
  },
  {
   "cell_type": "code",
   "execution_count": 8,
   "id": "aab574e3",
   "metadata": {},
   "outputs": [],
   "source": [
    "## Local execution only\n",
    "# sdf_ml_rpt.pandas_api().plot.scatter(x='avg_monetary_value', y='avg_clv', color='cluster_number')"
   ]
  },
  {
   "cell_type": "markdown",
   "id": "c6e2d012",
   "metadata": {},
   "source": [
    "### Optimization in Spark - considerations\n",
    "\n",
    "<b> Spark 1.x </b> : Catalyst Optimizer and Tungsten Project (CPU, cache and memoery efficiency, eliminating the overhead of JVM objects and garbage collection)\n",
    "    \n",
    "<b> Spark 2.x </b> : Cost-Based Optimizer (CBO) to improve queries with multiple joins, using table statistics to determine the most efficient query execution plan\n",
    "    \n",
    "<b> Spark 3.x </b> : Adaptive Query Execution (AQE) is an optimization technique in Spark SQL that use runtime statistics to choose the most eficient query execution plan, which is enabled by default since Apache Spark 3.2.0\n",
    "- https://spark.apache.org/docs/latest/sql-performance-tuning.html\n",
    "\n",
    "- three major features in AQE: including coalescing post-shuffle partitions, converting sort-merge join to broadcast join, and skew join optimization\n",
    "\n",
    "#### This notebook use Spark 3.x and Adaptive Query Execution (AQE) "
   ]
  },
  {
   "cell_type": "code",
   "execution_count": null,
   "id": "8bdbe5b7",
   "metadata": {},
   "outputs": [],
   "source": []
  }
 ],
 "metadata": {
  "kernelspec": {
   "display_name": "Python 3 (ipykernel)",
   "language": "python",
   "name": "python3"
  },
  "language_info": {
   "codemirror_mode": {
    "name": "ipython",
    "version": 3
   },
   "file_extension": ".py",
   "mimetype": "text/x-python",
   "name": "python",
   "nbconvert_exporter": "python",
   "pygments_lexer": "ipython3",
   "version": "3.9.13"
  }
 },
 "nbformat": 4,
 "nbformat_minor": 5
}
