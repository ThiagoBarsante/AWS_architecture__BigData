{
 "cells": [
  {
   "cell_type": "markdown",
   "id": "7cb98862",
   "metadata": {},
   "source": [
    "## Customer Value\n",
    "\n",
    "<b> CLV stands for \"Customer Lifetime Value\".</b> calcularion using Spark/PySpark and FRM (Frequency, Recency, and Monetary Value) - one method used to segment customers based on their purchase behavior.\n"
   ]
  },
  {
   "cell_type": "code",
   "execution_count": 2,
   "id": "9d6b5eaf",
   "metadata": {},
   "outputs": [
    {
     "data": {
      "text/html": [
       "\n",
       "            <div>\n",
       "                <p><b>SparkSession - in-memory</b></p>\n",
       "                \n",
       "        <div>\n",
       "            <p><b>SparkContext</b></p>\n",
       "\n",
       "            <p><a href=\"http://G15AMD:4040\">Spark UI</a></p>\n",
       "\n",
       "            <dl>\n",
       "              <dt>Version</dt>\n",
       "                <dd><code>v3.3.1</code></dd>\n",
       "              <dt>Master</dt>\n",
       "                <dd><code>local[*]</code></dd>\n",
       "              <dt>AppName</dt>\n",
       "                <dd><code>Spark3-quick-demo-app</code></dd>\n",
       "            </dl>\n",
       "        </div>\n",
       "        \n",
       "            </div>\n",
       "        "
      ],
      "text/plain": [
       "<pyspark.sql.session.SparkSession at 0x28e75f37af0>"
      ]
     },
     "execution_count": 2,
     "metadata": {},
     "output_type": "execute_result"
    }
   ],
   "source": [
    "## EMR and Athena for Spark Job already have spark session set-up\n",
    "## EXECUTE ONLY IN LOCAL DEVELOPMENT\n",
    "import findspark\n",
    "findspark.init()\n",
    "\n",
    "import pandas as pd\n",
    "from pyspark.sql import SparkSession\n",
    "\n",
    "## default Spark appName - se preferir \n",
    "spark = SparkSession.builder.appName('Spark3-quick-demo-app').master('local[*]').getOrCreate()\n",
    "sc = spark.sparkContext\n",
    "spark"
   ]
  },
  {
   "cell_type": "markdown",
   "id": "2205022a",
   "metadata": {},
   "source": [
    "##### Aux functions"
   ]
  },
  {
   "cell_type": "code",
   "execution_count": 3,
   "id": "2d676fca",
   "metadata": {},
   "outputs": [],
   "source": [
    "## Aux function\n",
    "\n",
    "def fshape(dataframe1):\n",
    "    print('Shape : ', dataframe1.count(), len(dataframe1.columns))\n",
    "\n",
    "def fhead(dataframe1, num_records=3):\n",
    "\t## Show all columns - pandas dataframe\n",
    "\t# import pandas as pd\n",
    "\t# pd.options.display.max_columns = None\n",
    "\n",
    "    return dataframe1.limit(num_records).toPandas()\n",
    "\n",
    "def fsummary(dataframe1):\n",
    "    return dataframe1.summary().toPandas()"
   ]
  },
  {
   "cell_type": "markdown",
   "id": "de3cc092",
   "metadata": {},
   "source": [
    "### Quick info related to the dataset\n",
    "Original dataset - converted to Parquet (typical file format stored in S3)\n",
    "- https://archive.ics.uci.edu/ml/datasets/online+retail"
   ]
  },
  {
   "cell_type": "code",
   "execution_count": 4,
   "id": "978fe5f9",
   "metadata": {},
   "outputs": [
    {
     "name": "stdout",
     "output_type": "stream",
     "text": [
      "Shape :  541909 8\n"
     ]
    },
    {
     "data": {
      "text/html": [
       "<div>\n",
       "<style scoped>\n",
       "    .dataframe tbody tr th:only-of-type {\n",
       "        vertical-align: middle;\n",
       "    }\n",
       "\n",
       "    .dataframe tbody tr th {\n",
       "        vertical-align: top;\n",
       "    }\n",
       "\n",
       "    .dataframe thead th {\n",
       "        text-align: right;\n",
       "    }\n",
       "</style>\n",
       "<table border=\"1\" class=\"dataframe\">\n",
       "  <thead>\n",
       "    <tr style=\"text-align: right;\">\n",
       "      <th></th>\n",
       "      <th>InvoiceNo</th>\n",
       "      <th>StockCode</th>\n",
       "      <th>Description</th>\n",
       "      <th>Quantity</th>\n",
       "      <th>InvoiceDate</th>\n",
       "      <th>UnitPrice</th>\n",
       "      <th>CustomerID</th>\n",
       "      <th>Country</th>\n",
       "    </tr>\n",
       "  </thead>\n",
       "  <tbody>\n",
       "    <tr>\n",
       "      <th>0</th>\n",
       "      <td>536365</td>\n",
       "      <td>85123A</td>\n",
       "      <td>WHITE HANGING HEART T-LIGHT HOLDER</td>\n",
       "      <td>6</td>\n",
       "      <td>2010-12-01 06:26:00</td>\n",
       "      <td>2.55</td>\n",
       "      <td>17850.0</td>\n",
       "      <td>United Kingdom</td>\n",
       "    </tr>\n",
       "    <tr>\n",
       "      <th>1</th>\n",
       "      <td>536365</td>\n",
       "      <td>71053</td>\n",
       "      <td>WHITE METAL LANTERN</td>\n",
       "      <td>6</td>\n",
       "      <td>2010-12-01 06:26:00</td>\n",
       "      <td>3.39</td>\n",
       "      <td>17850.0</td>\n",
       "      <td>United Kingdom</td>\n",
       "    </tr>\n",
       "    <tr>\n",
       "      <th>2</th>\n",
       "      <td>536365</td>\n",
       "      <td>84406B</td>\n",
       "      <td>CREAM CUPID HEARTS COAT HANGER</td>\n",
       "      <td>8</td>\n",
       "      <td>2010-12-01 06:26:00</td>\n",
       "      <td>2.75</td>\n",
       "      <td>17850.0</td>\n",
       "      <td>United Kingdom</td>\n",
       "    </tr>\n",
       "  </tbody>\n",
       "</table>\n",
       "</div>"
      ],
      "text/plain": [
       "  InvoiceNo StockCode                         Description  Quantity  \\\n",
       "0    536365    85123A  WHITE HANGING HEART T-LIGHT HOLDER         6   \n",
       "1    536365     71053                 WHITE METAL LANTERN         6   \n",
       "2    536365    84406B      CREAM CUPID HEARTS COAT HANGER         8   \n",
       "\n",
       "          InvoiceDate  UnitPrice  CustomerID         Country  \n",
       "0 2010-12-01 06:26:00       2.55     17850.0  United Kingdom  \n",
       "1 2010-12-01 06:26:00       3.39     17850.0  United Kingdom  \n",
       "2 2010-12-01 06:26:00       2.75     17850.0  United Kingdom  "
      ]
     },
     "execution_count": 4,
     "metadata": {},
     "output_type": "execute_result"
    }
   ],
   "source": [
    "## read local file\n",
    "sdf = spark.read.parquet('./data_input/OnlineRetail__AWS.parquet')\n",
    "# sdf.printSchema()\n",
    "\n",
    "fshape(sdf)\n",
    "fhead(sdf)"
   ]
  },
  {
   "cell_type": "markdown",
   "id": "03fb53bb",
   "metadata": {},
   "source": [
    "#### Create dataset with customer purchase history and apply CLV formula\n",
    "- customer_id\n",
    "- invoice_date\n",
    "- revenue : monetary value"
   ]
  },
  {
   "cell_type": "code",
   "execution_count": 5,
   "id": "9ae9a1d0",
   "metadata": {},
   "outputs": [
    {
     "name": "stdout",
     "output_type": "stream",
     "text": [
      "+-------------------------+----------+\n",
      "|current_date_for_FRMV_CLV| not_today|\n",
      "+-------------------------+----------+\n",
      "|               2011-12-09|2023-03-17|\n",
      "+-------------------------+----------+\n",
      "\n"
     ]
    }
   ],
   "source": [
    "sdf.createOrReplaceTempView('TB_SALES_SDF')\n",
    "spark.sql('select max(TO_DATE(InvoiceDate)) as current_date_for_FRMV_CLV, current_date as not_today from TB_SALES_SDF').show()"
   ]
  },
  {
   "cell_type": "markdown",
   "id": "0b158b23",
   "metadata": {},
   "source": [
    "### Information to understand the formula\n",
    "The formula to calculates: <b> Customer Lifetime Value (CLV) using the FRM (Frequency, Recency, Monetary Value) approach with a discount rate of 10% </b>.\n",
    "- monetary_value: the total monetary value spent by the customer.\n",
    "- frequency: the frequency of customer purchases, i.e., how many times they made a purchase.\n",
    "- recency_dt: the recency of the customer's purchases, i.e., how many days ago they made their last purchase.\n",
    "- 365: the number of days in a year.\n",
    "- 0.1: the discount rate used to calculate the present value of future cash flows.\n",
    "\n",
    "#### The formula itself consists of three parts:\n",
    "\n",
    "- (monetary_value / frequency): this part calculates the average value of each purchase made by the customer.\n",
    "- (1 - ((recency + 1) / 365)): this part calculates the probability of the customer returning to make a purchase based on the time since their last purchase. The longer the time since the last purchase, the lower the probability of the customer returning to make a purchase.\n",
    "- / (1 + discount): this part applies the discount rate to calculate the present value of future cash flows."
   ]
  },
  {
   "cell_type": "code",
   "execution_count": 6,
   "id": "80517223",
   "metadata": {},
   "outputs": [
    {
     "name": "stdout",
     "output_type": "stream",
     "text": [
      "Catalog Entry:\n",
      "Function(name='fnc_customer_clv_udf', description=None, className='org.apache.spark.sql.UDFRegistration$$Lambda$3204/1275411899', isTemporary=True)\n"
     ]
    },
    {
     "data": {
      "text/plain": [
       "[None]"
      ]
     },
     "execution_count": 6,
     "metadata": {},
     "output_type": "execute_result"
    }
   ],
   "source": [
    "## formula to calculate CLV \n",
    "def fnc_customer_clv_udf(monetary_value_f, frequency_f, recency_f, discount_f=0.1):\n",
    "    return round ( ( (monetary_value_f / frequency_f) * (1 - ((recency_f + 1) / 365)) / (1 + discount_f) ) , 2)\n",
    "\n",
    "## Register the formula to be used by Spark-SQL\n",
    "from pyspark.sql.types import FloatType\n",
    "\n",
    "spark.udf.register('fnc_customer_clv_udf', fnc_customer_clv_udf, FloatType())\n",
    "\n",
    "print(\"Catalog Entry:\")\n",
    "[print(r) for r in spark.catalog.listFunctions() if \"fnc_customer_clv_udf\" in r.name]"
   ]
  },
  {
   "cell_type": "code",
   "execution_count": 7,
   "id": "90dfe6ef",
   "metadata": {},
   "outputs": [
    {
     "name": "stdout",
     "output_type": "stream",
     "text": [
      "root\n",
      " |-- customer_id: double (nullable = true)\n",
      " |-- frequency: long (nullable = false)\n",
      " |-- recency_now: integer (nullable = true)\n",
      " |-- monetary_value: double (nullable = true)\n",
      " |-- avg_revenue: double (nullable = true)\n",
      " |-- dt_first_Invoice: timestamp (nullable = true)\n",
      " |-- dt_last_Invoice: timestamp (nullable = true)\n",
      " |-- recency_dt: float (nullable = true)\n",
      " |-- CLV_SQL: double (nullable = true)\n",
      " |-- CLV_UDF: float (nullable = true)\n",
      "\n"
     ]
    }
   ],
   "source": [
    "## Apply some filters and create the main customer purchase history as an example\n",
    "sql_query_clv = \"\"\"\n",
    "WITH TB_SALES_V AS\n",
    "(\n",
    "    SELECT CustomerID as customer_id\n",
    "        , COUNT(DISTINCT (InvoiceDate))  as frequency\n",
    "        , DATEDIFF( current_date , MAX (InvoiceDate) )  as recency_now\n",
    "        , ROUND(SUM(Quantity * UnitPrice), 2) as monetary_value\n",
    "        , ROUND(avg(Quantity * UnitPrice), 2) as avg_revenue\n",
    "        , MIN(InvoiceDate) as dt_first_Invoice\n",
    "        , MAX(InvoiceDate) as dt_last_Invoice\n",
    "        -- , ROUND(AVG(Quantity), 2) as avg_items\n",
    "        -- , ROUND(SUM(Quantity), 2) as total_items\n",
    "    FROM TB_SALES_SDF\n",
    "    WHERE 1 = 1\n",
    "        AND InvoiceDate IS NOT NULL\n",
    "        AND Quantity > 0\n",
    "        AND UnitPrice > 0\n",
    "    GROUP BY customer_id\n",
    ")\n",
    "SELECT tb3.*\n",
    "  , ROUND ( ( (monetary_value / frequency) * (1 - ((recency_dt + 1) / 365)) / (1 + 0.1) ) , 2) AS CLV_SQL -- discount of 0.1\n",
    "  , fnc_customer_clv_udf(monetary_value,frequency,recency_dt) AS CLV_UDF\n",
    "FROM (\n",
    "    SELECT tb1.*\n",
    "        , CAST( DATEDIFF(tb2.dt_current_date , tb1.dt_last_Invoice ) as float) as recency_dt\n",
    "    FROM TB_SALES_V as tb1\n",
    "    CROSS JOIN (SELECT MAX(dt_last_Invoice) AS dt_current_date FROM TB_SALES_V) tb2\n",
    "    ) tb3\n",
    "WHERE 1 = 1\n",
    "  AND monetary_value > 0\n",
    "  AND frequency > 0\n",
    "  AND customer_id IS NOT NULL\n",
    "ORDER BY monetary_value DESC\n",
    "\"\"\"\n",
    "\n",
    "sdf_clv = spark.sql(sql_query_clv)\n",
    "sdf_clv.printSchema()"
   ]
  },
  {
   "cell_type": "code",
   "execution_count": 8,
   "id": "08774642",
   "metadata": {},
   "outputs": [
    {
     "name": "stdout",
     "output_type": "stream",
     "text": [
      "clv_SQL and clv_udf provide the same information - just show how to implement it using 2 solutions... SQL and UDF\n"
     ]
    },
    {
     "data": {
      "text/html": [
       "<div>\n",
       "<style scoped>\n",
       "    .dataframe tbody tr th:only-of-type {\n",
       "        vertical-align: middle;\n",
       "    }\n",
       "\n",
       "    .dataframe tbody tr th {\n",
       "        vertical-align: top;\n",
       "    }\n",
       "\n",
       "    .dataframe thead th {\n",
       "        text-align: right;\n",
       "    }\n",
       "</style>\n",
       "<table border=\"1\" class=\"dataframe\">\n",
       "  <thead>\n",
       "    <tr style=\"text-align: right;\">\n",
       "      <th></th>\n",
       "      <th>customer_id</th>\n",
       "      <th>frequency</th>\n",
       "      <th>recency_now</th>\n",
       "      <th>monetary_value</th>\n",
       "      <th>avg_revenue</th>\n",
       "      <th>dt_first_Invoice</th>\n",
       "      <th>dt_last_Invoice</th>\n",
       "      <th>recency_dt</th>\n",
       "      <th>CLV_SQL</th>\n",
       "      <th>CLV_UDF</th>\n",
       "    </tr>\n",
       "  </thead>\n",
       "  <tbody>\n",
       "    <tr>\n",
       "      <th>0</th>\n",
       "      <td>14646.0</td>\n",
       "      <td>51</td>\n",
       "      <td>4118</td>\n",
       "      <td>200541.00</td>\n",
       "      <td>137.36</td>\n",
       "      <td>2010-12-20 08:09:00</td>\n",
       "      <td>2011-12-07 22:12:00</td>\n",
       "      <td>2.0</td>\n",
       "      <td>3545.32</td>\n",
       "      <td>3545.320068</td>\n",
       "    </tr>\n",
       "    <tr>\n",
       "      <th>1</th>\n",
       "      <td>16446.0</td>\n",
       "      <td>2</td>\n",
       "      <td>4116</td>\n",
       "      <td>168472.49</td>\n",
       "      <td>56157.50</td>\n",
       "      <td>2011-05-18 06:52:00</td>\n",
       "      <td>2011-12-09 07:15:00</td>\n",
       "      <td>0.0</td>\n",
       "      <td>76368.60</td>\n",
       "      <td>76368.601562</td>\n",
       "    </tr>\n",
       "    <tr>\n",
       "      <th>2</th>\n",
       "      <td>17450.0</td>\n",
       "      <td>27</td>\n",
       "      <td>4126</td>\n",
       "      <td>121321.71</td>\n",
       "      <td>588.94</td>\n",
       "      <td>2010-12-07 07:23:00</td>\n",
       "      <td>2011-11-29 07:56:00</td>\n",
       "      <td>10.0</td>\n",
       "      <td>3961.80</td>\n",
       "      <td>3961.800049</td>\n",
       "    </tr>\n",
       "  </tbody>\n",
       "</table>\n",
       "</div>"
      ],
      "text/plain": [
       "   customer_id  frequency  recency_now  monetary_value  avg_revenue  \\\n",
       "0      14646.0         51         4118       200541.00       137.36   \n",
       "1      16446.0          2         4116       168472.49     56157.50   \n",
       "2      17450.0         27         4126       121321.71       588.94   \n",
       "\n",
       "     dt_first_Invoice     dt_last_Invoice  recency_dt   CLV_SQL       CLV_UDF  \n",
       "0 2010-12-20 08:09:00 2011-12-07 22:12:00         2.0   3545.32   3545.320068  \n",
       "1 2011-05-18 06:52:00 2011-12-09 07:15:00         0.0  76368.60  76368.601562  \n",
       "2 2010-12-07 07:23:00 2011-11-29 07:56:00        10.0   3961.80   3961.800049  "
      ]
     },
     "execution_count": 8,
     "metadata": {},
     "output_type": "execute_result"
    }
   ],
   "source": [
    "print('clv_SQL and clv_udf provide the same information - just show how to implement it using 2 solutions... SQL and UDF')\n",
    "fhead(sdf_clv)"
   ]
  },
  {
   "cell_type": "markdown",
   "id": "de5d4d43",
   "metadata": {},
   "source": [
    "## Machine Learning - Customer segmentation and plot\n",
    "- Predictive Power (KI) = 0.741 and Prediction Confidence (KR) = 0.917"
   ]
  },
  {
   "cell_type": "code",
   "execution_count": 9,
   "id": "70713156",
   "metadata": {},
   "outputs": [],
   "source": [
    "sdf_clv.createOrReplaceTempView('TB_CLV_SDF')"
   ]
  },
  {
   "cell_type": "code",
   "execution_count": 10,
   "id": "f2041e4a",
   "metadata": {},
   "outputs": [],
   "source": [
    "def ml_sql_prediction(filename1='./CLV_AWS__Spark_Execution_v1.sql'):\n",
    "\ttext_rdd = sc.textFile(filename1)\n",
    "\t# concatenate all lines into a single STRING   \t** obs. incluir um tab em todas as linhas via Notepad\n",
    "\ttext_sql_ml = text_rdd.reduce(lambda x, y: x + y)\n",
    "\n",
    "\ttext_sql_ml2 = f\"\"\"\n",
    "\t\t{text_sql_ml}\n",
    "\t\t\"\"\"\n",
    "\t\n",
    "\treturn text_sql_ml2"
   ]
  },
  {
   "cell_type": "code",
   "execution_count": 11,
   "id": "f737de27",
   "metadata": {},
   "outputs": [
    {
     "name": "stdout",
     "output_type": "stream",
     "text": [
      "root\n",
      " |-- customer_id: double (nullable = true)\n",
      " |-- frequency: long (nullable = false)\n",
      " |-- recency_now: integer (nullable = true)\n",
      " |-- monetary_value: double (nullable = true)\n",
      " |-- avg_revenue: double (nullable = true)\n",
      " |-- dt_first_Invoice: timestamp (nullable = true)\n",
      " |-- dt_last_Invoice: timestamp (nullable = true)\n",
      " |-- recency_dt: float (nullable = true)\n",
      " |-- CLV_SQL: double (nullable = true)\n",
      " |-- CLV_UDF: float (nullable = true)\n",
      " |-- kc_monetary_value: integer (nullable = false)\n",
      "\n",
      "-RECORD 0--------------------------------\n",
      " customer_id       | 14646.0             \n",
      " frequency         | 51                  \n",
      " recency_now       | 4118                \n",
      " monetary_value    | 200541.0            \n",
      " avg_revenue       | 137.36              \n",
      " dt_first_Invoice  | 2010-12-20 08:09:00 \n",
      " dt_last_Invoice   | 2011-12-07 22:12:00 \n",
      " recency_dt        | 2.0                 \n",
      " CLV_SQL           | 3545.32             \n",
      " CLV_UDF           | 3545.32             \n",
      " kc_monetary_value | 10                  \n",
      "-RECORD 1--------------------------------\n",
      " customer_id       | 16446.0             \n",
      " frequency         | 2                   \n",
      " recency_now       | 4116                \n",
      " monetary_value    | 168472.49           \n",
      " avg_revenue       | 56157.5             \n",
      " dt_first_Invoice  | 2011-05-18 06:52:00 \n",
      " dt_last_Invoice   | 2011-12-09 07:15:00 \n",
      " recency_dt        | 0.0                 \n",
      " CLV_SQL           | 76368.6             \n",
      " CLV_UDF           | 76368.6             \n",
      " kc_monetary_value | 3                   \n",
      "-RECORD 2--------------------------------\n",
      " customer_id       | 17450.0             \n",
      " frequency         | 27                  \n",
      " recency_now       | 4126                \n",
      " monetary_value    | 121321.71           \n",
      " avg_revenue       | 588.94              \n",
      " dt_first_Invoice  | 2010-12-07 07:23:00 \n",
      " dt_last_Invoice   | 2011-11-29 07:56:00 \n",
      " recency_dt        | 10.0                \n",
      " CLV_SQL           | 3961.8              \n",
      " CLV_UDF           | 3961.8              \n",
      " kc_monetary_value | 10                  \n",
      "only showing top 3 rows\n",
      "\n"
     ]
    }
   ],
   "source": [
    "ml_spark = ml_sql_prediction()\n",
    "\n",
    "sdf_ml = spark.sql(ml_spark)\n",
    "\n",
    "sdf_ml.printSchema()\n",
    "# fhead(sdf_ml)\n",
    "sdf_ml.show(3, vertical=True)"
   ]
  },
  {
   "cell_type": "code",
   "execution_count": 12,
   "id": "4111d340",
   "metadata": {},
   "outputs": [
    {
     "data": {
      "text/html": [
       "<div>\n",
       "<style scoped>\n",
       "    .dataframe tbody tr th:only-of-type {\n",
       "        vertical-align: middle;\n",
       "    }\n",
       "\n",
       "    .dataframe tbody tr th {\n",
       "        vertical-align: top;\n",
       "    }\n",
       "\n",
       "    .dataframe thead th {\n",
       "        text-align: right;\n",
       "    }\n",
       "</style>\n",
       "<table border=\"1\" class=\"dataframe\">\n",
       "  <thead>\n",
       "    <tr style=\"text-align: right;\">\n",
       "      <th></th>\n",
       "      <th>customer_id</th>\n",
       "      <th>frequency</th>\n",
       "      <th>recency_now</th>\n",
       "      <th>monetary_value</th>\n",
       "      <th>avg_revenue</th>\n",
       "      <th>dt_first_Invoice</th>\n",
       "      <th>dt_last_Invoice</th>\n",
       "      <th>recency_dt</th>\n",
       "      <th>CLV_SQL</th>\n",
       "      <th>CLV_UDF</th>\n",
       "    </tr>\n",
       "  </thead>\n",
       "  <tbody>\n",
       "    <tr>\n",
       "      <th>0</th>\n",
       "      <td>14646.0</td>\n",
       "      <td>51</td>\n",
       "      <td>4118</td>\n",
       "      <td>200541.00</td>\n",
       "      <td>137.36</td>\n",
       "      <td>2010-12-20 08:09:00</td>\n",
       "      <td>2011-12-07 22:12:00</td>\n",
       "      <td>2.0</td>\n",
       "      <td>3545.32</td>\n",
       "      <td>3545.320068</td>\n",
       "    </tr>\n",
       "    <tr>\n",
       "      <th>1</th>\n",
       "      <td>16446.0</td>\n",
       "      <td>2</td>\n",
       "      <td>4116</td>\n",
       "      <td>168472.49</td>\n",
       "      <td>56157.50</td>\n",
       "      <td>2011-05-18 06:52:00</td>\n",
       "      <td>2011-12-09 07:15:00</td>\n",
       "      <td>0.0</td>\n",
       "      <td>76368.60</td>\n",
       "      <td>76368.601562</td>\n",
       "    </tr>\n",
       "    <tr>\n",
       "      <th>2</th>\n",
       "      <td>17450.0</td>\n",
       "      <td>27</td>\n",
       "      <td>4126</td>\n",
       "      <td>121321.71</td>\n",
       "      <td>588.94</td>\n",
       "      <td>2010-12-07 07:23:00</td>\n",
       "      <td>2011-11-29 07:56:00</td>\n",
       "      <td>10.0</td>\n",
       "      <td>3961.80</td>\n",
       "      <td>3961.800049</td>\n",
       "    </tr>\n",
       "    <tr>\n",
       "      <th>3</th>\n",
       "      <td>18102.0</td>\n",
       "      <td>30</td>\n",
       "      <td>4116</td>\n",
       "      <td>111259.88</td>\n",
       "      <td>498.92</td>\n",
       "      <td>2011-03-03 06:26:00</td>\n",
       "      <td>2011-12-09 09:50:00</td>\n",
       "      <td>0.0</td>\n",
       "      <td>3362.27</td>\n",
       "      <td>3362.270020</td>\n",
       "    </tr>\n",
       "  </tbody>\n",
       "</table>\n",
       "</div>"
      ],
      "text/plain": [
       "   customer_id  frequency  recency_now  monetary_value  avg_revenue  \\\n",
       "0      14646.0         51         4118       200541.00       137.36   \n",
       "1      16446.0          2         4116       168472.49     56157.50   \n",
       "2      17450.0         27         4126       121321.71       588.94   \n",
       "3      18102.0         30         4116       111259.88       498.92   \n",
       "\n",
       "     dt_first_Invoice     dt_last_Invoice  recency_dt   CLV_SQL       CLV_UDF  \n",
       "0 2010-12-20 08:09:00 2011-12-07 22:12:00         2.0   3545.32   3545.320068  \n",
       "1 2011-05-18 06:52:00 2011-12-09 07:15:00         0.0  76368.60  76368.601562  \n",
       "2 2010-12-07 07:23:00 2011-11-29 07:56:00        10.0   3961.80   3961.800049  \n",
       "3 2011-03-03 06:26:00 2011-12-09 09:50:00         0.0   3362.27   3362.270020  "
      ]
     },
     "execution_count": 12,
     "metadata": {},
     "output_type": "execute_result"
    }
   ],
   "source": [
    "fhead(sdf_clv,num_records=4)"
   ]
  },
  {
   "cell_type": "code",
   "execution_count": 13,
   "id": "75426a15",
   "metadata": {},
   "outputs": [],
   "source": [
    "## Export as parquet file\n",
    "# sdf_clv.write.mode('overwrite').parquet('./data_output/OnlineRetail__AWS_FRMV.parquet')"
   ]
  },
  {
   "cell_type": "markdown",
   "id": "c4dc7e01",
   "metadata": {},
   "source": [
    "#### Plot and Report sample"
   ]
  },
  {
   "cell_type": "code",
   "execution_count": 14,
   "id": "ddd4fe4a",
   "metadata": {},
   "outputs": [
    {
     "name": "stdout",
     "output_type": "stream",
     "text": [
      "+--------------+--------------------+-------+------------------+\n",
      "|cluster_number|percent_of_customers|avg_clv|avg_monetary_value|\n",
      "+--------------+--------------------+-------+------------------+\n",
      "|            10|                2.44| 654.88|          19804.38|\n",
      "|             3|                13.6| 465.83|           1442.35|\n",
      "|             4|                3.27| 406.07|           4364.46|\n",
      "|             1|                3.59| 384.52|           4264.86|\n",
      "|             8|               21.94| 302.95|            747.88|\n",
      "|            11|                0.32| 270.71|           1834.17|\n",
      "|             7|                8.37| 211.57|            678.51|\n",
      "|             2|                8.53| 200.86|           1177.56|\n",
      "|             6|               37.94| 192.44|            706.01|\n",
      "+--------------+--------------------+-------+------------------+\n",
      "\n"
     ]
    }
   ],
   "source": [
    "sdf_ml.createOrReplaceTempView('TB_CLV_SDF_ML')\n",
    "\n",
    "ml_rpt_sql = \"\"\"\n",
    "WITH TB_CLUSTER AS \n",
    "(\n",
    "    select kc_monetary_value as cluster_number\n",
    "    , count(distinct customer_id) as customer_count\n",
    "    , avg(clv_sql) avg_clv\n",
    "    , avg(monetary_value) avg_monetary_value\n",
    "    -- , count(*) as qty_records\n",
    "    FROM TB_CLV_SDF_ML\n",
    "    group by kc_monetary_value\n",
    ")\n",
    "SELECT cluster_number\n",
    "--    , customer_count\n",
    "    , ROUND( customer_count / (select sum(customer_count) from TB_CLUSTER ) * 100, 2) as percent_of_customers\n",
    "    , ROUND( avg_clv, 2) as avg_clv\n",
    "    , ROUND( avg_monetary_value, 2) as avg_monetary_value\n",
    "FROM TB_CLUSTER tb1\n",
    "order by avg_clv desc\n",
    "\"\"\"\n",
    "\n",
    "sdf_ml_rpt = spark.sql(ml_rpt_sql) \n",
    "# sdf_ml_rpt.printSchema()\n",
    "sdf_ml_rpt.show()"
   ]
  },
  {
   "cell_type": "markdown",
   "id": "bf80ba90",
   "metadata": {},
   "source": [
    "#### Plot"
   ]
  },
  {
   "cell_type": "code",
   "execution_count": 18,
   "id": "26276c7f",
   "metadata": {},
   "outputs": [
    {
     "data": {
      "application/vnd.plotly.v1+json": {
       "config": {
        "plotlyServerURL": "https://plot.ly"
       },
       "data": [
        {
         "hovertemplate": "avg_monetary_value=%{x}<br>avg_clv=%{y}<br>percent_of_customers=%{marker.size}<br>cluster_number=%{marker.color}<extra></extra>",
         "legendgroup": "",
         "marker": {
          "color": [
           10,
           3,
           4,
           1,
           8,
           11,
           7,
           2,
           6
          ],
          "coloraxis": "coloraxis",
          "size": [
           2.44,
           13.6,
           3.27,
           3.59,
           21.94,
           0.32,
           8.37,
           8.53,
           37.94
          ],
          "sizemode": "area",
          "sizeref": 0.09484999999999999,
          "symbol": "circle"
         },
         "mode": "markers",
         "name": "",
         "orientation": "v",
         "showlegend": false,
         "type": "scatter",
         "x": [
          19804.38,
          1442.35,
          4364.46,
          4264.86,
          747.88,
          1834.17,
          678.51,
          1177.56,
          706.01
         ],
         "xaxis": "x",
         "y": [
          654.88,
          465.83,
          406.07,
          384.52,
          302.95,
          270.71,
          211.57,
          200.86,
          192.44
         ],
         "yaxis": "y"
        }
       ],
       "layout": {
        "coloraxis": {
         "colorbar": {
          "title": {
           "text": "cluster_number"
          }
         },
         "colorscale": [
          [
           0,
           "#0d0887"
          ],
          [
           0.1111111111111111,
           "#46039f"
          ],
          [
           0.2222222222222222,
           "#7201a8"
          ],
          [
           0.3333333333333333,
           "#9c179e"
          ],
          [
           0.4444444444444444,
           "#bd3786"
          ],
          [
           0.5555555555555556,
           "#d8576b"
          ],
          [
           0.6666666666666666,
           "#ed7953"
          ],
          [
           0.7777777777777778,
           "#fb9f3a"
          ],
          [
           0.8888888888888888,
           "#fdca26"
          ],
          [
           1,
           "#f0f921"
          ]
         ]
        },
        "legend": {
         "itemsizing": "constant",
         "tracegroupgap": 0
        },
        "template": {
         "data": {
          "bar": [
           {
            "error_x": {
             "color": "#2a3f5f"
            },
            "error_y": {
             "color": "#2a3f5f"
            },
            "marker": {
             "line": {
              "color": "#E5ECF6",
              "width": 0.5
             },
             "pattern": {
              "fillmode": "overlay",
              "size": 10,
              "solidity": 0.2
             }
            },
            "type": "bar"
           }
          ],
          "barpolar": [
           {
            "marker": {
             "line": {
              "color": "#E5ECF6",
              "width": 0.5
             },
             "pattern": {
              "fillmode": "overlay",
              "size": 10,
              "solidity": 0.2
             }
            },
            "type": "barpolar"
           }
          ],
          "carpet": [
           {
            "aaxis": {
             "endlinecolor": "#2a3f5f",
             "gridcolor": "white",
             "linecolor": "white",
             "minorgridcolor": "white",
             "startlinecolor": "#2a3f5f"
            },
            "baxis": {
             "endlinecolor": "#2a3f5f",
             "gridcolor": "white",
             "linecolor": "white",
             "minorgridcolor": "white",
             "startlinecolor": "#2a3f5f"
            },
            "type": "carpet"
           }
          ],
          "choropleth": [
           {
            "colorbar": {
             "outlinewidth": 0,
             "ticks": ""
            },
            "type": "choropleth"
           }
          ],
          "contour": [
           {
            "colorbar": {
             "outlinewidth": 0,
             "ticks": ""
            },
            "colorscale": [
             [
              0,
              "#0d0887"
             ],
             [
              0.1111111111111111,
              "#46039f"
             ],
             [
              0.2222222222222222,
              "#7201a8"
             ],
             [
              0.3333333333333333,
              "#9c179e"
             ],
             [
              0.4444444444444444,
              "#bd3786"
             ],
             [
              0.5555555555555556,
              "#d8576b"
             ],
             [
              0.6666666666666666,
              "#ed7953"
             ],
             [
              0.7777777777777778,
              "#fb9f3a"
             ],
             [
              0.8888888888888888,
              "#fdca26"
             ],
             [
              1,
              "#f0f921"
             ]
            ],
            "type": "contour"
           }
          ],
          "contourcarpet": [
           {
            "colorbar": {
             "outlinewidth": 0,
             "ticks": ""
            },
            "type": "contourcarpet"
           }
          ],
          "heatmap": [
           {
            "colorbar": {
             "outlinewidth": 0,
             "ticks": ""
            },
            "colorscale": [
             [
              0,
              "#0d0887"
             ],
             [
              0.1111111111111111,
              "#46039f"
             ],
             [
              0.2222222222222222,
              "#7201a8"
             ],
             [
              0.3333333333333333,
              "#9c179e"
             ],
             [
              0.4444444444444444,
              "#bd3786"
             ],
             [
              0.5555555555555556,
              "#d8576b"
             ],
             [
              0.6666666666666666,
              "#ed7953"
             ],
             [
              0.7777777777777778,
              "#fb9f3a"
             ],
             [
              0.8888888888888888,
              "#fdca26"
             ],
             [
              1,
              "#f0f921"
             ]
            ],
            "type": "heatmap"
           }
          ],
          "heatmapgl": [
           {
            "colorbar": {
             "outlinewidth": 0,
             "ticks": ""
            },
            "colorscale": [
             [
              0,
              "#0d0887"
             ],
             [
              0.1111111111111111,
              "#46039f"
             ],
             [
              0.2222222222222222,
              "#7201a8"
             ],
             [
              0.3333333333333333,
              "#9c179e"
             ],
             [
              0.4444444444444444,
              "#bd3786"
             ],
             [
              0.5555555555555556,
              "#d8576b"
             ],
             [
              0.6666666666666666,
              "#ed7953"
             ],
             [
              0.7777777777777778,
              "#fb9f3a"
             ],
             [
              0.8888888888888888,
              "#fdca26"
             ],
             [
              1,
              "#f0f921"
             ]
            ],
            "type": "heatmapgl"
           }
          ],
          "histogram": [
           {
            "marker": {
             "pattern": {
              "fillmode": "overlay",
              "size": 10,
              "solidity": 0.2
             }
            },
            "type": "histogram"
           }
          ],
          "histogram2d": [
           {
            "colorbar": {
             "outlinewidth": 0,
             "ticks": ""
            },
            "colorscale": [
             [
              0,
              "#0d0887"
             ],
             [
              0.1111111111111111,
              "#46039f"
             ],
             [
              0.2222222222222222,
              "#7201a8"
             ],
             [
              0.3333333333333333,
              "#9c179e"
             ],
             [
              0.4444444444444444,
              "#bd3786"
             ],
             [
              0.5555555555555556,
              "#d8576b"
             ],
             [
              0.6666666666666666,
              "#ed7953"
             ],
             [
              0.7777777777777778,
              "#fb9f3a"
             ],
             [
              0.8888888888888888,
              "#fdca26"
             ],
             [
              1,
              "#f0f921"
             ]
            ],
            "type": "histogram2d"
           }
          ],
          "histogram2dcontour": [
           {
            "colorbar": {
             "outlinewidth": 0,
             "ticks": ""
            },
            "colorscale": [
             [
              0,
              "#0d0887"
             ],
             [
              0.1111111111111111,
              "#46039f"
             ],
             [
              0.2222222222222222,
              "#7201a8"
             ],
             [
              0.3333333333333333,
              "#9c179e"
             ],
             [
              0.4444444444444444,
              "#bd3786"
             ],
             [
              0.5555555555555556,
              "#d8576b"
             ],
             [
              0.6666666666666666,
              "#ed7953"
             ],
             [
              0.7777777777777778,
              "#fb9f3a"
             ],
             [
              0.8888888888888888,
              "#fdca26"
             ],
             [
              1,
              "#f0f921"
             ]
            ],
            "type": "histogram2dcontour"
           }
          ],
          "mesh3d": [
           {
            "colorbar": {
             "outlinewidth": 0,
             "ticks": ""
            },
            "type": "mesh3d"
           }
          ],
          "parcoords": [
           {
            "line": {
             "colorbar": {
              "outlinewidth": 0,
              "ticks": ""
             }
            },
            "type": "parcoords"
           }
          ],
          "pie": [
           {
            "automargin": true,
            "type": "pie"
           }
          ],
          "scatter": [
           {
            "fillpattern": {
             "fillmode": "overlay",
             "size": 10,
             "solidity": 0.2
            },
            "type": "scatter"
           }
          ],
          "scatter3d": [
           {
            "line": {
             "colorbar": {
              "outlinewidth": 0,
              "ticks": ""
             }
            },
            "marker": {
             "colorbar": {
              "outlinewidth": 0,
              "ticks": ""
             }
            },
            "type": "scatter3d"
           }
          ],
          "scattercarpet": [
           {
            "marker": {
             "colorbar": {
              "outlinewidth": 0,
              "ticks": ""
             }
            },
            "type": "scattercarpet"
           }
          ],
          "scattergeo": [
           {
            "marker": {
             "colorbar": {
              "outlinewidth": 0,
              "ticks": ""
             }
            },
            "type": "scattergeo"
           }
          ],
          "scattergl": [
           {
            "marker": {
             "colorbar": {
              "outlinewidth": 0,
              "ticks": ""
             }
            },
            "type": "scattergl"
           }
          ],
          "scattermapbox": [
           {
            "marker": {
             "colorbar": {
              "outlinewidth": 0,
              "ticks": ""
             }
            },
            "type": "scattermapbox"
           }
          ],
          "scatterpolar": [
           {
            "marker": {
             "colorbar": {
              "outlinewidth": 0,
              "ticks": ""
             }
            },
            "type": "scatterpolar"
           }
          ],
          "scatterpolargl": [
           {
            "marker": {
             "colorbar": {
              "outlinewidth": 0,
              "ticks": ""
             }
            },
            "type": "scatterpolargl"
           }
          ],
          "scatterternary": [
           {
            "marker": {
             "colorbar": {
              "outlinewidth": 0,
              "ticks": ""
             }
            },
            "type": "scatterternary"
           }
          ],
          "surface": [
           {
            "colorbar": {
             "outlinewidth": 0,
             "ticks": ""
            },
            "colorscale": [
             [
              0,
              "#0d0887"
             ],
             [
              0.1111111111111111,
              "#46039f"
             ],
             [
              0.2222222222222222,
              "#7201a8"
             ],
             [
              0.3333333333333333,
              "#9c179e"
             ],
             [
              0.4444444444444444,
              "#bd3786"
             ],
             [
              0.5555555555555556,
              "#d8576b"
             ],
             [
              0.6666666666666666,
              "#ed7953"
             ],
             [
              0.7777777777777778,
              "#fb9f3a"
             ],
             [
              0.8888888888888888,
              "#fdca26"
             ],
             [
              1,
              "#f0f921"
             ]
            ],
            "type": "surface"
           }
          ],
          "table": [
           {
            "cells": {
             "fill": {
              "color": "#EBF0F8"
             },
             "line": {
              "color": "white"
             }
            },
            "header": {
             "fill": {
              "color": "#C8D4E3"
             },
             "line": {
              "color": "white"
             }
            },
            "type": "table"
           }
          ]
         },
         "layout": {
          "annotationdefaults": {
           "arrowcolor": "#2a3f5f",
           "arrowhead": 0,
           "arrowwidth": 1
          },
          "autotypenumbers": "strict",
          "coloraxis": {
           "colorbar": {
            "outlinewidth": 0,
            "ticks": ""
           }
          },
          "colorscale": {
           "diverging": [
            [
             0,
             "#8e0152"
            ],
            [
             0.1,
             "#c51b7d"
            ],
            [
             0.2,
             "#de77ae"
            ],
            [
             0.3,
             "#f1b6da"
            ],
            [
             0.4,
             "#fde0ef"
            ],
            [
             0.5,
             "#f7f7f7"
            ],
            [
             0.6,
             "#e6f5d0"
            ],
            [
             0.7,
             "#b8e186"
            ],
            [
             0.8,
             "#7fbc41"
            ],
            [
             0.9,
             "#4d9221"
            ],
            [
             1,
             "#276419"
            ]
           ],
           "sequential": [
            [
             0,
             "#0d0887"
            ],
            [
             0.1111111111111111,
             "#46039f"
            ],
            [
             0.2222222222222222,
             "#7201a8"
            ],
            [
             0.3333333333333333,
             "#9c179e"
            ],
            [
             0.4444444444444444,
             "#bd3786"
            ],
            [
             0.5555555555555556,
             "#d8576b"
            ],
            [
             0.6666666666666666,
             "#ed7953"
            ],
            [
             0.7777777777777778,
             "#fb9f3a"
            ],
            [
             0.8888888888888888,
             "#fdca26"
            ],
            [
             1,
             "#f0f921"
            ]
           ],
           "sequentialminus": [
            [
             0,
             "#0d0887"
            ],
            [
             0.1111111111111111,
             "#46039f"
            ],
            [
             0.2222222222222222,
             "#7201a8"
            ],
            [
             0.3333333333333333,
             "#9c179e"
            ],
            [
             0.4444444444444444,
             "#bd3786"
            ],
            [
             0.5555555555555556,
             "#d8576b"
            ],
            [
             0.6666666666666666,
             "#ed7953"
            ],
            [
             0.7777777777777778,
             "#fb9f3a"
            ],
            [
             0.8888888888888888,
             "#fdca26"
            ],
            [
             1,
             "#f0f921"
            ]
           ]
          },
          "colorway": [
           "#636efa",
           "#EF553B",
           "#00cc96",
           "#ab63fa",
           "#FFA15A",
           "#19d3f3",
           "#FF6692",
           "#B6E880",
           "#FF97FF",
           "#FECB52"
          ],
          "font": {
           "color": "#2a3f5f"
          },
          "geo": {
           "bgcolor": "white",
           "lakecolor": "white",
           "landcolor": "#E5ECF6",
           "showlakes": true,
           "showland": true,
           "subunitcolor": "white"
          },
          "hoverlabel": {
           "align": "left"
          },
          "hovermode": "closest",
          "mapbox": {
           "style": "light"
          },
          "paper_bgcolor": "white",
          "plot_bgcolor": "#E5ECF6",
          "polar": {
           "angularaxis": {
            "gridcolor": "white",
            "linecolor": "white",
            "ticks": ""
           },
           "bgcolor": "#E5ECF6",
           "radialaxis": {
            "gridcolor": "white",
            "linecolor": "white",
            "ticks": ""
           }
          },
          "scene": {
           "xaxis": {
            "backgroundcolor": "#E5ECF6",
            "gridcolor": "white",
            "gridwidth": 2,
            "linecolor": "white",
            "showbackground": true,
            "ticks": "",
            "zerolinecolor": "white"
           },
           "yaxis": {
            "backgroundcolor": "#E5ECF6",
            "gridcolor": "white",
            "gridwidth": 2,
            "linecolor": "white",
            "showbackground": true,
            "ticks": "",
            "zerolinecolor": "white"
           },
           "zaxis": {
            "backgroundcolor": "#E5ECF6",
            "gridcolor": "white",
            "gridwidth": 2,
            "linecolor": "white",
            "showbackground": true,
            "ticks": "",
            "zerolinecolor": "white"
           }
          },
          "shapedefaults": {
           "line": {
            "color": "#2a3f5f"
           }
          },
          "ternary": {
           "aaxis": {
            "gridcolor": "white",
            "linecolor": "white",
            "ticks": ""
           },
           "baxis": {
            "gridcolor": "white",
            "linecolor": "white",
            "ticks": ""
           },
           "bgcolor": "#E5ECF6",
           "caxis": {
            "gridcolor": "white",
            "linecolor": "white",
            "ticks": ""
           }
          },
          "title": {
           "x": 0.05
          },
          "xaxis": {
           "automargin": true,
           "gridcolor": "white",
           "linecolor": "white",
           "ticks": "",
           "title": {
            "standoff": 15
           },
           "zerolinecolor": "white",
           "zerolinewidth": 2
          },
          "yaxis": {
           "automargin": true,
           "gridcolor": "white",
           "linecolor": "white",
           "ticks": "",
           "title": {
            "standoff": 15
           },
           "zerolinecolor": "white",
           "zerolinewidth": 2
          }
         }
        },
        "title": {
         "text": "Customer value_clv vs Monetary value (FRM -frequency, recency, monetary value)"
        },
        "xaxis": {
         "anchor": "y",
         "domain": [
          0,
          1
         ],
         "title": {
          "text": "avg_monetary_value"
         }
        },
        "yaxis": {
         "anchor": "x",
         "domain": [
          0,
          1
         ],
         "title": {
          "text": "avg_clv"
         }
        }
       }
      },
      "text/html": [
       "<div>                            <div id=\"1220aab9-c3c9-4c74-b7b5-8c65857d63dc\" class=\"plotly-graph-div\" style=\"height:525px; width:100%;\"></div>            <script type=\"text/javascript\">                require([\"plotly\"], function(Plotly) {                    window.PLOTLYENV=window.PLOTLYENV || {};                                    if (document.getElementById(\"1220aab9-c3c9-4c74-b7b5-8c65857d63dc\")) {                    Plotly.newPlot(                        \"1220aab9-c3c9-4c74-b7b5-8c65857d63dc\",                        [{\"hovertemplate\":\"avg_monetary_value=%{x}<br>avg_clv=%{y}<br>percent_of_customers=%{marker.size}<br>cluster_number=%{marker.color}<extra></extra>\",\"legendgroup\":\"\",\"marker\":{\"color\":[10,3,4,1,8,11,7,2,6],\"coloraxis\":\"coloraxis\",\"size\":[2.44,13.6,3.27,3.59,21.94,0.32,8.37,8.53,37.94],\"sizemode\":\"area\",\"sizeref\":0.09484999999999999,\"symbol\":\"circle\"},\"mode\":\"markers\",\"name\":\"\",\"orientation\":\"v\",\"showlegend\":false,\"x\":[19804.38,1442.35,4364.46,4264.86,747.88,1834.17,678.51,1177.56,706.01],\"xaxis\":\"x\",\"y\":[654.88,465.83,406.07,384.52,302.95,270.71,211.57,200.86,192.44],\"yaxis\":\"y\",\"type\":\"scatter\"}],                        {\"template\":{\"data\":{\"histogram2dcontour\":[{\"type\":\"histogram2dcontour\",\"colorbar\":{\"outlinewidth\":0,\"ticks\":\"\"},\"colorscale\":[[0.0,\"#0d0887\"],[0.1111111111111111,\"#46039f\"],[0.2222222222222222,\"#7201a8\"],[0.3333333333333333,\"#9c179e\"],[0.4444444444444444,\"#bd3786\"],[0.5555555555555556,\"#d8576b\"],[0.6666666666666666,\"#ed7953\"],[0.7777777777777778,\"#fb9f3a\"],[0.8888888888888888,\"#fdca26\"],[1.0,\"#f0f921\"]]}],\"choropleth\":[{\"type\":\"choropleth\",\"colorbar\":{\"outlinewidth\":0,\"ticks\":\"\"}}],\"histogram2d\":[{\"type\":\"histogram2d\",\"colorbar\":{\"outlinewidth\":0,\"ticks\":\"\"},\"colorscale\":[[0.0,\"#0d0887\"],[0.1111111111111111,\"#46039f\"],[0.2222222222222222,\"#7201a8\"],[0.3333333333333333,\"#9c179e\"],[0.4444444444444444,\"#bd3786\"],[0.5555555555555556,\"#d8576b\"],[0.6666666666666666,\"#ed7953\"],[0.7777777777777778,\"#fb9f3a\"],[0.8888888888888888,\"#fdca26\"],[1.0,\"#f0f921\"]]}],\"heatmap\":[{\"type\":\"heatmap\",\"colorbar\":{\"outlinewidth\":0,\"ticks\":\"\"},\"colorscale\":[[0.0,\"#0d0887\"],[0.1111111111111111,\"#46039f\"],[0.2222222222222222,\"#7201a8\"],[0.3333333333333333,\"#9c179e\"],[0.4444444444444444,\"#bd3786\"],[0.5555555555555556,\"#d8576b\"],[0.6666666666666666,\"#ed7953\"],[0.7777777777777778,\"#fb9f3a\"],[0.8888888888888888,\"#fdca26\"],[1.0,\"#f0f921\"]]}],\"heatmapgl\":[{\"type\":\"heatmapgl\",\"colorbar\":{\"outlinewidth\":0,\"ticks\":\"\"},\"colorscale\":[[0.0,\"#0d0887\"],[0.1111111111111111,\"#46039f\"],[0.2222222222222222,\"#7201a8\"],[0.3333333333333333,\"#9c179e\"],[0.4444444444444444,\"#bd3786\"],[0.5555555555555556,\"#d8576b\"],[0.6666666666666666,\"#ed7953\"],[0.7777777777777778,\"#fb9f3a\"],[0.8888888888888888,\"#fdca26\"],[1.0,\"#f0f921\"]]}],\"contourcarpet\":[{\"type\":\"contourcarpet\",\"colorbar\":{\"outlinewidth\":0,\"ticks\":\"\"}}],\"contour\":[{\"type\":\"contour\",\"colorbar\":{\"outlinewidth\":0,\"ticks\":\"\"},\"colorscale\":[[0.0,\"#0d0887\"],[0.1111111111111111,\"#46039f\"],[0.2222222222222222,\"#7201a8\"],[0.3333333333333333,\"#9c179e\"],[0.4444444444444444,\"#bd3786\"],[0.5555555555555556,\"#d8576b\"],[0.6666666666666666,\"#ed7953\"],[0.7777777777777778,\"#fb9f3a\"],[0.8888888888888888,\"#fdca26\"],[1.0,\"#f0f921\"]]}],\"surface\":[{\"type\":\"surface\",\"colorbar\":{\"outlinewidth\":0,\"ticks\":\"\"},\"colorscale\":[[0.0,\"#0d0887\"],[0.1111111111111111,\"#46039f\"],[0.2222222222222222,\"#7201a8\"],[0.3333333333333333,\"#9c179e\"],[0.4444444444444444,\"#bd3786\"],[0.5555555555555556,\"#d8576b\"],[0.6666666666666666,\"#ed7953\"],[0.7777777777777778,\"#fb9f3a\"],[0.8888888888888888,\"#fdca26\"],[1.0,\"#f0f921\"]]}],\"mesh3d\":[{\"type\":\"mesh3d\",\"colorbar\":{\"outlinewidth\":0,\"ticks\":\"\"}}],\"scatter\":[{\"fillpattern\":{\"fillmode\":\"overlay\",\"size\":10,\"solidity\":0.2},\"type\":\"scatter\"}],\"parcoords\":[{\"type\":\"parcoords\",\"line\":{\"colorbar\":{\"outlinewidth\":0,\"ticks\":\"\"}}}],\"scatterpolargl\":[{\"type\":\"scatterpolargl\",\"marker\":{\"colorbar\":{\"outlinewidth\":0,\"ticks\":\"\"}}}],\"bar\":[{\"error_x\":{\"color\":\"#2a3f5f\"},\"error_y\":{\"color\":\"#2a3f5f\"},\"marker\":{\"line\":{\"color\":\"#E5ECF6\",\"width\":0.5},\"pattern\":{\"fillmode\":\"overlay\",\"size\":10,\"solidity\":0.2}},\"type\":\"bar\"}],\"scattergeo\":[{\"type\":\"scattergeo\",\"marker\":{\"colorbar\":{\"outlinewidth\":0,\"ticks\":\"\"}}}],\"scatterpolar\":[{\"type\":\"scatterpolar\",\"marker\":{\"colorbar\":{\"outlinewidth\":0,\"ticks\":\"\"}}}],\"histogram\":[{\"marker\":{\"pattern\":{\"fillmode\":\"overlay\",\"size\":10,\"solidity\":0.2}},\"type\":\"histogram\"}],\"scattergl\":[{\"type\":\"scattergl\",\"marker\":{\"colorbar\":{\"outlinewidth\":0,\"ticks\":\"\"}}}],\"scatter3d\":[{\"type\":\"scatter3d\",\"line\":{\"colorbar\":{\"outlinewidth\":0,\"ticks\":\"\"}},\"marker\":{\"colorbar\":{\"outlinewidth\":0,\"ticks\":\"\"}}}],\"scattermapbox\":[{\"type\":\"scattermapbox\",\"marker\":{\"colorbar\":{\"outlinewidth\":0,\"ticks\":\"\"}}}],\"scatterternary\":[{\"type\":\"scatterternary\",\"marker\":{\"colorbar\":{\"outlinewidth\":0,\"ticks\":\"\"}}}],\"scattercarpet\":[{\"type\":\"scattercarpet\",\"marker\":{\"colorbar\":{\"outlinewidth\":0,\"ticks\":\"\"}}}],\"carpet\":[{\"aaxis\":{\"endlinecolor\":\"#2a3f5f\",\"gridcolor\":\"white\",\"linecolor\":\"white\",\"minorgridcolor\":\"white\",\"startlinecolor\":\"#2a3f5f\"},\"baxis\":{\"endlinecolor\":\"#2a3f5f\",\"gridcolor\":\"white\",\"linecolor\":\"white\",\"minorgridcolor\":\"white\",\"startlinecolor\":\"#2a3f5f\"},\"type\":\"carpet\"}],\"table\":[{\"cells\":{\"fill\":{\"color\":\"#EBF0F8\"},\"line\":{\"color\":\"white\"}},\"header\":{\"fill\":{\"color\":\"#C8D4E3\"},\"line\":{\"color\":\"white\"}},\"type\":\"table\"}],\"barpolar\":[{\"marker\":{\"line\":{\"color\":\"#E5ECF6\",\"width\":0.5},\"pattern\":{\"fillmode\":\"overlay\",\"size\":10,\"solidity\":0.2}},\"type\":\"barpolar\"}],\"pie\":[{\"automargin\":true,\"type\":\"pie\"}]},\"layout\":{\"autotypenumbers\":\"strict\",\"colorway\":[\"#636efa\",\"#EF553B\",\"#00cc96\",\"#ab63fa\",\"#FFA15A\",\"#19d3f3\",\"#FF6692\",\"#B6E880\",\"#FF97FF\",\"#FECB52\"],\"font\":{\"color\":\"#2a3f5f\"},\"hovermode\":\"closest\",\"hoverlabel\":{\"align\":\"left\"},\"paper_bgcolor\":\"white\",\"plot_bgcolor\":\"#E5ECF6\",\"polar\":{\"bgcolor\":\"#E5ECF6\",\"angularaxis\":{\"gridcolor\":\"white\",\"linecolor\":\"white\",\"ticks\":\"\"},\"radialaxis\":{\"gridcolor\":\"white\",\"linecolor\":\"white\",\"ticks\":\"\"}},\"ternary\":{\"bgcolor\":\"#E5ECF6\",\"aaxis\":{\"gridcolor\":\"white\",\"linecolor\":\"white\",\"ticks\":\"\"},\"baxis\":{\"gridcolor\":\"white\",\"linecolor\":\"white\",\"ticks\":\"\"},\"caxis\":{\"gridcolor\":\"white\",\"linecolor\":\"white\",\"ticks\":\"\"}},\"coloraxis\":{\"colorbar\":{\"outlinewidth\":0,\"ticks\":\"\"}},\"colorscale\":{\"sequential\":[[0.0,\"#0d0887\"],[0.1111111111111111,\"#46039f\"],[0.2222222222222222,\"#7201a8\"],[0.3333333333333333,\"#9c179e\"],[0.4444444444444444,\"#bd3786\"],[0.5555555555555556,\"#d8576b\"],[0.6666666666666666,\"#ed7953\"],[0.7777777777777778,\"#fb9f3a\"],[0.8888888888888888,\"#fdca26\"],[1.0,\"#f0f921\"]],\"sequentialminus\":[[0.0,\"#0d0887\"],[0.1111111111111111,\"#46039f\"],[0.2222222222222222,\"#7201a8\"],[0.3333333333333333,\"#9c179e\"],[0.4444444444444444,\"#bd3786\"],[0.5555555555555556,\"#d8576b\"],[0.6666666666666666,\"#ed7953\"],[0.7777777777777778,\"#fb9f3a\"],[0.8888888888888888,\"#fdca26\"],[1.0,\"#f0f921\"]],\"diverging\":[[0,\"#8e0152\"],[0.1,\"#c51b7d\"],[0.2,\"#de77ae\"],[0.3,\"#f1b6da\"],[0.4,\"#fde0ef\"],[0.5,\"#f7f7f7\"],[0.6,\"#e6f5d0\"],[0.7,\"#b8e186\"],[0.8,\"#7fbc41\"],[0.9,\"#4d9221\"],[1,\"#276419\"]]},\"xaxis\":{\"gridcolor\":\"white\",\"linecolor\":\"white\",\"ticks\":\"\",\"title\":{\"standoff\":15},\"zerolinecolor\":\"white\",\"automargin\":true,\"zerolinewidth\":2},\"yaxis\":{\"gridcolor\":\"white\",\"linecolor\":\"white\",\"ticks\":\"\",\"title\":{\"standoff\":15},\"zerolinecolor\":\"white\",\"automargin\":true,\"zerolinewidth\":2},\"scene\":{\"xaxis\":{\"backgroundcolor\":\"#E5ECF6\",\"gridcolor\":\"white\",\"linecolor\":\"white\",\"showbackground\":true,\"ticks\":\"\",\"zerolinecolor\":\"white\",\"gridwidth\":2},\"yaxis\":{\"backgroundcolor\":\"#E5ECF6\",\"gridcolor\":\"white\",\"linecolor\":\"white\",\"showbackground\":true,\"ticks\":\"\",\"zerolinecolor\":\"white\",\"gridwidth\":2},\"zaxis\":{\"backgroundcolor\":\"#E5ECF6\",\"gridcolor\":\"white\",\"linecolor\":\"white\",\"showbackground\":true,\"ticks\":\"\",\"zerolinecolor\":\"white\",\"gridwidth\":2}},\"shapedefaults\":{\"line\":{\"color\":\"#2a3f5f\"}},\"annotationdefaults\":{\"arrowcolor\":\"#2a3f5f\",\"arrowhead\":0,\"arrowwidth\":1},\"geo\":{\"bgcolor\":\"white\",\"landcolor\":\"#E5ECF6\",\"subunitcolor\":\"white\",\"showland\":true,\"showlakes\":true,\"lakecolor\":\"white\"},\"title\":{\"x\":0.05},\"mapbox\":{\"style\":\"light\"}}},\"xaxis\":{\"anchor\":\"y\",\"domain\":[0.0,1.0],\"title\":{\"text\":\"avg_monetary_value\"}},\"yaxis\":{\"anchor\":\"x\",\"domain\":[0.0,1.0],\"title\":{\"text\":\"avg_clv\"}},\"coloraxis\":{\"colorbar\":{\"title\":{\"text\":\"cluster_number\"}},\"colorscale\":[[0.0,\"#0d0887\"],[0.1111111111111111,\"#46039f\"],[0.2222222222222222,\"#7201a8\"],[0.3333333333333333,\"#9c179e\"],[0.4444444444444444,\"#bd3786\"],[0.5555555555555556,\"#d8576b\"],[0.6666666666666666,\"#ed7953\"],[0.7777777777777778,\"#fb9f3a\"],[0.8888888888888888,\"#fdca26\"],[1.0,\"#f0f921\"]]},\"legend\":{\"tracegroupgap\":0,\"itemsizing\":\"constant\"},\"title\":{\"text\":\"Customer value_clv vs Monetary value (FRM -frequency, recency, monetary value)\"}},                        {\"responsive\": true}                    ).then(function(){\n",
       "                            \n",
       "var gd = document.getElementById('1220aab9-c3c9-4c74-b7b5-8c65857d63dc');\n",
       "var x = new MutationObserver(function (mutations, observer) {{\n",
       "        var display = window.getComputedStyle(gd).display;\n",
       "        if (!display || display === 'none') {{\n",
       "            console.log([gd, 'removed!']);\n",
       "            Plotly.purge(gd);\n",
       "            observer.disconnect();\n",
       "        }}\n",
       "}});\n",
       "\n",
       "// Listen for the removal of the full notebook cells\n",
       "var notebookContainer = gd.closest('#notebook-container');\n",
       "if (notebookContainer) {{\n",
       "    x.observe(notebookContainer, {childList: true});\n",
       "}}\n",
       "\n",
       "// Listen for the clearing of the current output cell\n",
       "var outputEl = gd.closest('.output');\n",
       "if (outputEl) {{\n",
       "    x.observe(outputEl, {childList: true});\n",
       "}}\n",
       "\n",
       "                        })                };                });            </script>        </div>"
      ]
     },
     "metadata": {},
     "output_type": "display_data"
    }
   ],
   "source": [
    "sdf_ml_rpt.pandas_api().plot.scatter(x='avg_monetary_value', y='avg_clv', size='percent_of_customers',\n",
    "                                     title='Customer value_clv vs Monetary value (FRM -frequency, recency, monetary value)',\n",
    "                                     color='cluster_number')"
   ]
  },
  {
   "cell_type": "markdown",
   "id": "0c4dc94b",
   "metadata": {},
   "source": [
    "### Optimization in Spark - considerations\n",
    "\n",
    "<b> Spark 1.x </b> : Catalyst Optimizer and Tungsten Project (CPU, cache and memoery efficiency, eliminating the overhead of JVM objects and garbage collection)\n",
    "    \n",
    "<b> Spark 2.x </b> : Cost-Based Optimizer (CBO) to improve queries with multiple joins, using table statistics to determine the most efficient query execution plan\n",
    "    \n",
    "<b> Spark 3.x </b> : Adaptive Query Execution (AQE) is an optimization technique in Spark SQL that use runtime statistics to choose the most eficient query execution plan, which is enabled by default since Apache Spark 3.2.0\n",
    "- https://spark.apache.org/docs/latest/sql-performance-tuning.html\n",
    "\n",
    "- three major features in AQE: including coalescing post-shuffle partitions, converting sort-merge join to broadcast join, and skew join optimization\n",
    "\n",
    "#### This notebook use Spark 3.x and Adaptive Query Execution (AQE) "
   ]
  },
  {
   "cell_type": "code",
   "execution_count": null,
   "id": "0c8dbd18",
   "metadata": {},
   "outputs": [],
   "source": []
  }
 ],
 "metadata": {
  "kernelspec": {
   "display_name": "Python 3 (ipykernel)",
   "language": "python",
   "name": "python3"
  },
  "language_info": {
   "codemirror_mode": {
    "name": "ipython",
    "version": 3
   },
   "file_extension": ".py",
   "mimetype": "text/x-python",
   "name": "python",
   "nbconvert_exporter": "python",
   "pygments_lexer": "ipython3",
   "version": "3.9.13"
  }
 },
 "nbformat": 4,
 "nbformat_minor": 5
}
