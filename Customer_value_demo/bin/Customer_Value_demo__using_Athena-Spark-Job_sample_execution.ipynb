{
 "cells": [
  {
   "cell_type": "markdown",
   "id": "737f9cc1",
   "metadata": {},
   "source": [
    "## Customer Value\n",
    "\n",
    "<b> CLV stands for \"Customer Lifetime Value\".</b> calcularion using Spark/PySpark and FRM (Frequency, Recency, and Monetary Value) - one method used to segment customers based on their purchase behavior.\n"
   ]
  },
  {
   "cell_type": "code",
   "execution_count": 1,
   "id": "09e611dd",
   "metadata": {},
   "outputs": [],
   "source": [
    "## Athena for Spark Job already have spark session set-up\n",
    "# spark"
   ]
  },
  {
   "cell_type": "code",
   "execution_count": 1,
   "id": "9c32fa7c",
   "metadata": {},
   "outputs": [
    {
     "name": "stdout",
     "output_type": "stream",
     "text": [
      "Calculation started (calculation_id=5ec38d12-53ef-2862-c7ce-db9293a08772) in (session=54c38d11-bc47-e5c7-19b9-cd14cdf24b9b). Checking calculation status...\n"
     ]
    },
    {
     "data": {
      "application/vnd.jupyter.widget-view+json": {
       "model_id": "d7dab7a86e954efbb5faff310744e3bc",
       "version_major": 2,
       "version_minor": 0
      },
      "text/plain": [
       "Progress:   0%|          |elapsed time = 00:00s"
      ]
     },
     "metadata": {},
     "output_type": "display_data"
    },
    {
     "name": "stdout",
     "output_type": "stream",
     "text": [
      "Calculation completed.\n",
      "'3.2.1-amzn-0'\n",
      "\n"
     ]
    }
   ],
   "source": [
    "spark.version"
   ]
  },
  {
   "cell_type": "markdown",
   "id": "890cf40c",
   "metadata": {},
   "source": [
    "##### Aux functions"
   ]
  },
  {
   "cell_type": "code",
   "execution_count": 2,
   "id": "eb61fa59",
   "metadata": {},
   "outputs": [
    {
     "name": "stdout",
     "output_type": "stream",
     "text": [
      "Calculation started (calculation_id=1cc38d12-5649-59c6-b5b8-5e556f4a7102) in (session=54c38d11-bc47-e5c7-19b9-cd14cdf24b9b). Checking calculation status...\n"
     ]
    },
    {
     "data": {
      "application/vnd.jupyter.widget-view+json": {
       "model_id": "90246ef345b24e51902bfaeb85c3e98d",
       "version_major": 2,
       "version_minor": 0
      },
      "text/plain": [
       "Progress:   0%|          |elapsed time = 00:00s"
      ]
     },
     "metadata": {},
     "output_type": "display_data"
    },
    {
     "name": "stdout",
     "output_type": "stream",
     "text": [
      "Calculation completed.\n"
     ]
    }
   ],
   "source": [
    "## Aux function\n",
    "\n",
    "def fshape(dataframe1):\n",
    "    print('Shape : ', dataframe1.count(), len(dataframe1.columns))\n",
    "\n",
    "def fhead(dataframe1, num_records=3):\n",
    "\t## Show all columns - pandas dataframe\n",
    "\t# import pandas as pd\n",
    "\t# pd.options.display.max_columns = None\n",
    "\n",
    "    return dataframe1.limit(num_records).toPandas()\n",
    "\n",
    "def fsummary(dataframe1):\n",
    "    return dataframe1.summary().toPandas()"
   ]
  },
  {
   "cell_type": "markdown",
   "id": "8bc58d4b",
   "metadata": {},
   "source": [
    "### Quick info related to the dataset\n",
    "Original dataset - converted to Parquet (typical file format stored in S3)\n",
    "- https://archive.ics.uci.edu/ml/datasets/online+retail"
   ]
  },
  {
   "cell_type": "code",
   "execution_count": 3,
   "id": "6ccc44b1",
   "metadata": {},
   "outputs": [
    {
     "name": "stdout",
     "output_type": "stream",
     "text": [
      "Calculation started (calculation_id=52c38d12-5766-68cb-30c2-6b84c752dd39) in (session=54c38d11-bc47-e5c7-19b9-cd14cdf24b9b). Checking calculation status...\n"
     ]
    },
    {
     "data": {
      "application/vnd.jupyter.widget-view+json": {
       "model_id": "d8b9cfb0e7e44e10be4c4ce1c88fe4c9",
       "version_major": 2,
       "version_minor": 0
      },
      "text/plain": [
       "Progress:   0%|          |elapsed time = 00:00s"
      ]
     },
     "metadata": {},
     "output_type": "display_data"
    },
    {
     "name": "stdout",
     "output_type": "stream",
     "text": [
      "Calculation completed.\n",
      "Shape :  541909 8\n",
      "  InvoiceNo StockCode  ... CustomerID         Country\n",
      "0    536365    85123A  ...    17850.0  United Kingdom\n",
      "1    536365     71053  ...    17850.0  United Kingdom\n",
      "2    536365    84406B  ...    17850.0  United Kingdom\n",
      "\n",
      "[3 rows x 8 columns]\n",
      "\n"
     ]
    }
   ],
   "source": [
    "## read local file\n",
    "input_location = 's3://...S3...BUCKET...NAME/s3_data/input/OnlineRetail__AWS.parquet'\n",
    "sdf = spark.read.parquet(input_location)\n",
    "# sdf.printSchema()\n",
    "\n",
    "fshape(sdf)\n",
    "fhead(sdf)"
   ]
  },
  {
   "cell_type": "markdown",
   "id": "56f9eaa9",
   "metadata": {},
   "source": [
    "#### Create dataset with customer purchase history and apply CLV formula\n",
    "- customer_id\n",
    "- invoice_date\n",
    "- revenue : monetary value"
   ]
  },
  {
   "cell_type": "code",
   "execution_count": 4,
   "id": "3bef238b",
   "metadata": {},
   "outputs": [
    {
     "name": "stdout",
     "output_type": "stream",
     "text": [
      "Calculation started (calculation_id=eec38d12-70c3-7d8d-b49a-baa746f0547f) in (session=54c38d11-bc47-e5c7-19b9-cd14cdf24b9b). Checking calculation status...\n"
     ]
    },
    {
     "data": {
      "application/vnd.jupyter.widget-view+json": {
       "model_id": "38219da49c2a4162bbcc7bfbdb21750b",
       "version_major": 2,
       "version_minor": 0
      },
      "text/plain": [
       "Progress:   0%|          |elapsed time = 00:00s"
      ]
     },
     "metadata": {},
     "output_type": "display_data"
    },
    {
     "name": "stdout",
     "output_type": "stream",
     "text": [
      "Calculation completed.\n",
      "+-------------------------+----------+\n",
      "|current_date_for_FRMV_CLV| not_today|\n",
      "+-------------------------+----------+\n",
      "|               2011-12-09|2023-03-25|\n",
      "+-------------------------+----------+\n",
      "\n"
     ]
    }
   ],
   "source": [
    "sdf.createOrReplaceTempView('TB_SALES_SDF')\n",
    "spark.sql('select max(TO_DATE(InvoiceDate)) as current_date_for_FRMV_CLV, current_date as not_today from TB_SALES_SDF').show()"
   ]
  },
  {
   "cell_type": "markdown",
   "id": "03138ee6",
   "metadata": {},
   "source": [
    "### Information to understand the formula\n",
    "The formula to calculates: <b> Customer Lifetime Value (CLV) using the FRM (Frequency, Recency, Monetary Value) approach with a discount rate of 10% </b>.\n",
    "- monetary_value: the total monetary value spent by the customer.\n",
    "- frequency: the frequency of customer purchases, i.e., how many times they made a purchase.\n",
    "- recency_dt: the recency of the customer's purchases, i.e., how many days ago they made their last purchase.\n",
    "- 365: the number of days in a year.\n",
    "- 0.1: the discount rate used to calculate the present value of future cash flows.\n",
    "\n",
    "#### The formula itself consists of three parts:\n",
    "\n",
    "- (monetary_value / frequency): this part calculates the average value of each purchase made by the customer.\n",
    "- (1 - ((recency + 1) / 365)): this part calculates the probability of the customer returning to make a purchase based on the time since their last purchase. The longer the time since the last purchase, the lower the probability of the customer returning to make a purchase.\n",
    "- / (1 + discount): this part applies the discount rate to calculate the present value of future cash flows."
   ]
  },
  {
   "cell_type": "code",
   "execution_count": 5,
   "id": "c9cc3b9f",
   "metadata": {},
   "outputs": [
    {
     "name": "stdout",
     "output_type": "stream",
     "text": [
      "Calculation started (calculation_id=1ec38d12-75f6-a153-eaf1-4f901cbb4630) in (session=54c38d11-bc47-e5c7-19b9-cd14cdf24b9b). Checking calculation status...\n"
     ]
    },
    {
     "data": {
      "application/vnd.jupyter.widget-view+json": {
       "model_id": "216cea71b8634343a93d7e8c2d9889dd",
       "version_major": 2,
       "version_minor": 0
      },
      "text/plain": [
       "Progress:   0%|          |elapsed time = 00:00s"
      ]
     },
     "metadata": {},
     "output_type": "display_data"
    },
    {
     "name": "stdout",
     "output_type": "stream",
     "text": [
      "Calculation completed.\n",
      "Catalog Entry:\n",
      "Function(name='fnc_customer_clv_udf', description=None, className='org.apache.spark.sql.UDFRegistration$$Lambda$4913/1436708388', isTemporary=True)\n",
      "[None]\n",
      "\n"
     ]
    }
   ],
   "source": [
    "## formula to calculate CLV \n",
    "def fnc_customer_clv_udf(monetary_value_f, frequency_f, recency_f, discount_f=0.1):\n",
    "    return round ( ( (monetary_value_f / frequency_f) * (1 - ((recency_f + 1) / 365)) / (1 + discount_f) ) , 2)\n",
    "\n",
    "## Register the formula to be used by Spark-SQL\n",
    "from pyspark.sql.types import FloatType\n",
    "\n",
    "spark.udf.register('fnc_customer_clv_udf', fnc_customer_clv_udf, FloatType())\n",
    "\n",
    "print(\"Catalog Entry:\")\n",
    "[print(r) for r in spark.catalog.listFunctions() if \"fnc_customer_clv_udf\" in r.name]"
   ]
  },
  {
   "cell_type": "code",
   "execution_count": 6,
   "id": "a0a06b93",
   "metadata": {},
   "outputs": [
    {
     "name": "stdout",
     "output_type": "stream",
     "text": [
      "Calculation started (calculation_id=88c38d12-8f47-121b-3b46-2dcda79b09d0) in (session=54c38d11-bc47-e5c7-19b9-cd14cdf24b9b). Checking calculation status...\n"
     ]
    },
    {
     "data": {
      "application/vnd.jupyter.widget-view+json": {
       "model_id": "62f8f879edc74f0aa2c9304c40c6e232",
       "version_major": 2,
       "version_minor": 0
      },
      "text/plain": [
       "Progress:   0%|          |elapsed time = 00:00s"
      ]
     },
     "metadata": {},
     "output_type": "display_data"
    },
    {
     "name": "stdout",
     "output_type": "stream",
     "text": [
      "Calculation completed.\n",
      "root\n",
      " |-- customer_id: double (nullable = true)\n",
      " |-- frequency: long (nullable = false)\n",
      " |-- recency_now: integer (nullable = true)\n",
      " |-- monetary_value: double (nullable = true)\n",
      " |-- avg_revenue: double (nullable = true)\n",
      " |-- dt_first_Invoice: timestamp (nullable = true)\n",
      " |-- dt_last_Invoice: timestamp (nullable = true)\n",
      " |-- recency_dt: float (nullable = true)\n",
      " |-- CLV_SQL: double (nullable = true)\n",
      " |-- CLV_UDF: float (nullable = true)\n",
      "\n"
     ]
    }
   ],
   "source": [
    "## Apply some filters and create the main customer purchase history as an example\n",
    "sql_query_clv = \"\"\"\n",
    "WITH TB_SALES_V AS\n",
    "(\n",
    "    SELECT CustomerID as customer_id\n",
    "        , COUNT(DISTINCT (InvoiceDate))  as frequency\n",
    "        , DATEDIFF( current_date , MAX (InvoiceDate) )  as recency_now\n",
    "        , ROUND(SUM(Quantity * UnitPrice), 2) as monetary_value\n",
    "        , ROUND(avg(Quantity * UnitPrice), 2) as avg_revenue\n",
    "        , MIN(InvoiceDate) as dt_first_Invoice\n",
    "        , MAX(InvoiceDate) as dt_last_Invoice\n",
    "        -- , ROUND(AVG(Quantity), 2) as avg_items\n",
    "        -- , ROUND(SUM(Quantity), 2) as total_items\n",
    "    FROM TB_SALES_SDF\n",
    "    WHERE 1 = 1\n",
    "        AND InvoiceDate IS NOT NULL\n",
    "        AND Quantity > 0\n",
    "        AND UnitPrice > 0\n",
    "    GROUP BY customer_id\n",
    ")\n",
    "SELECT tb3.*\n",
    "  , ROUND ( ( (monetary_value / frequency) * (1 - ((recency_dt + 1) / 365)) / (1 + 0.1) ) , 2) AS CLV_SQL -- discount of 0.1\n",
    "  , fnc_customer_clv_udf(monetary_value,frequency,recency_dt) AS CLV_UDF\n",
    "FROM (\n",
    "    SELECT tb1.*\n",
    "        , CAST( DATEDIFF(tb2.dt_current_date , tb1.dt_last_Invoice ) as float) as recency_dt\n",
    "    FROM TB_SALES_V as tb1\n",
    "    CROSS JOIN (SELECT MAX(dt_last_Invoice) AS dt_current_date FROM TB_SALES_V) tb2\n",
    "    ) tb3\n",
    "WHERE 1 = 1\n",
    "  AND monetary_value > 0\n",
    "  AND frequency > 0\n",
    "  AND customer_id IS NOT NULL\n",
    "ORDER BY monetary_value DESC\n",
    "\"\"\"\n",
    "\n",
    "sdf_clv = spark.sql(sql_query_clv)\n",
    "sdf_clv.printSchema()"
   ]
  },
  {
   "cell_type": "code",
   "execution_count": 7,
   "id": "42f2b17f",
   "metadata": {},
   "outputs": [
    {
     "name": "stdout",
     "output_type": "stream",
     "text": [
      "Calculation started (calculation_id=b2c38d12-9493-1b32-5a86-66d8b9f4037e) in (session=54c38d11-bc47-e5c7-19b9-cd14cdf24b9b). Checking calculation status...\n"
     ]
    },
    {
     "data": {
      "application/vnd.jupyter.widget-view+json": {
       "model_id": "2c8fb6313ec14202b261f7cae18e6675",
       "version_major": 2,
       "version_minor": 0
      },
      "text/plain": [
       "Progress:   0%|          |elapsed time = 00:00s"
      ]
     },
     "metadata": {},
     "output_type": "display_data"
    },
    {
     "name": "stdout",
     "output_type": "stream",
     "text": [
      "Calculation completed.\n",
      "clv_SQL and clv_udf provide the same information - just show how to implement it using 2 solutions... SQL and UDF\n",
      "   customer_id  frequency  recency_now  ...  recency_dt   CLV_SQL       CLV_UDF\n",
      "0      14646.0         51         4125  ...         1.0   3555.12   3555.120117\n",
      "1      16446.0          2         4124  ...         0.0  76368.60  76368.601562\n",
      "2      17450.0         27         4134  ...        10.0   3961.80   3961.800049\n",
      "\n",
      "[3 rows x 10 columns]\n",
      "\n"
     ]
    }
   ],
   "source": [
    "print('clv_SQL and clv_udf provide the same information - just show how to implement it using 2 solutions... SQL and UDF')\n",
    "fhead(sdf_clv)"
   ]
  },
  {
   "cell_type": "markdown",
   "id": "5ee5a08d",
   "metadata": {},
   "source": [
    "## Machine Learning - Customer segmentation and plot\n",
    "- Predictive Power (KI) = 0.741 and Prediction Confidence (KR) = 0.917"
   ]
  },
  {
   "cell_type": "code",
   "execution_count": 8,
   "id": "0fae7444",
   "metadata": {},
   "outputs": [
    {
     "name": "stdout",
     "output_type": "stream",
     "text": [
      "Calculation started (calculation_id=8cc38d12-adfe-99c7-e21f-51546f1d63f8) in (session=54c38d11-bc47-e5c7-19b9-cd14cdf24b9b). Checking calculation status...\n"
     ]
    },
    {
     "data": {
      "application/vnd.jupyter.widget-view+json": {
       "model_id": "32a4f76df52546e282b31b175a21a36f",
       "version_major": 2,
       "version_minor": 0
      },
      "text/plain": [
       "Progress:   0%|          |elapsed time = 00:00s"
      ]
     },
     "metadata": {},
     "output_type": "display_data"
    },
    {
     "name": "stdout",
     "output_type": "stream",
     "text": [
      "Calculation completed.\n"
     ]
    }
   ],
   "source": [
    "sdf_clv.createOrReplaceTempView('TB_CLV_SDF')"
   ]
  },
  {
   "cell_type": "code",
   "execution_count": null,
   "id": "b4d3f6c0",
   "metadata": {},
   "outputs": [],
   "source": []
  },
  {
   "cell_type": "code",
   "execution_count": 9,
   "id": "7c2fb184",
   "metadata": {},
   "outputs": [
    {
     "name": "stdout",
     "output_type": "stream",
     "text": [
      "Calculation started (calculation_id=38c38d12-b350-e485-b152-0c1959a654fb) in (session=54c38d11-bc47-e5c7-19b9-cd14cdf24b9b). Checking calculation status...\n"
     ]
    },
    {
     "data": {
      "application/vnd.jupyter.widget-view+json": {
       "model_id": "fb496150ca204cc1bd87b5a4ef725dcd",
       "version_major": 2,
       "version_minor": 0
      },
      "text/plain": [
       "Progress:   0%|          |elapsed time = 00:00s"
      ]
     },
     "metadata": {},
     "output_type": "display_data"
    },
    {
     "name": "stdout",
     "output_type": "stream",
     "text": [
      "Calculation completed.\n"
     ]
    }
   ],
   "source": [
    "def ml_sql_prediction(filename1='./CLV_AWS__Spark_Execution_v1.sql'):\n",
    "# \ttext_rdd = sc.textFile(filename1)\n",
    "\t# concatenate all lines into a single STRING   \t** obs. incluir um tab em todas as linhas via Notepad\n",
    "# \ttext_sql_ml = text_rdd.reduce(lambda x, y: x + y)\n",
    "\n",
    "\ttext_sql_ml2 = f\"\"\"\n",
    "\n",
    "\t\t SELECT TB_CLV_SDF.*, \n",
    "\t\t( CASE\n",
    "\t\tWHEN ( ( ( `frequency`  > 1.0e1 AND `frequency`  <= 1.14e2 ) ) ) THEN 9\n",
    "\t\tWHEN ( ((abs(year(`dt_first_Invoice`) - 2.01e3) <= 10e-9) OR ( (`dt_first_Invoice` IS NULL ) ) ) AND ((abs(`frequency` - 1.0e0) <= 10e-9) OR (abs(`frequency` - 2.0e0) <= 10e-9) OR (abs(`frequency` - 3.0e0) <= 10e-9) OR (abs(`frequency` - 4.0e0) <= 10e-9) OR (abs(`frequency` - 5.0e0) <= 10e-9) OR (abs(`frequency` - 6.0e0) <= 10e-9) OR ( (`frequency` IS NULL ) ) ) AND ( ( (datediff(concat(year(`dt_last_Invoice`),'-',month(`dt_last_Invoice`),'-',day(`dt_last_Invoice`)),concat(year(`dt_last_Invoice`),'-01-01')) + 1)  >= 4.0e0 AND (datediff(concat(year(`dt_last_Invoice`),'-',month(`dt_last_Invoice`),'-',day(`dt_last_Invoice`)),concat(year(`dt_last_Invoice`),'-01-01')) + 1)  <= 3.4e2 ) OR ( (`dt_last_Invoice` IS NULL ) ) ) ) THEN 1\n",
    "\t\tWHEN ( ((abs(`frequency` - 7.0e0) <= 10e-9) OR  ( `frequency`  >= 8.0e0 AND `frequency`  <= 1.3e1 ) ) ) THEN 3\n",
    "\t\tWHEN ( ( ( `recency_dt`  >= 0.0e0 AND `recency_dt`  <= 4.0e0 ) ) ) THEN 10\n",
    "\t\tWHEN ( ( ( `CLV_SQL`  > 9.0245000000000005e2 AND `CLV_SQL`  <= 7.49729e3 ) ) ) THEN 6\n",
    "\t\tWHEN ( ( ( `CLV_SQL`  > 3.8501999999999998e2 AND `CLV_SQL`  <= 9.0245000000000005e2 ) ) AND ((abs(`frequency` - 1.0e0) <= 10e-9) OR (abs(`frequency` - 2.0e0) <= 10e-9) OR (abs(`frequency` - 3.0e0) <= 10e-9) OR (abs(`frequency` - 4.0e0) <= 10e-9) OR (abs(`frequency` - 5.0e0) <= 10e-9) OR (abs(`frequency` - 6.0e0) <= 10e-9) OR ( (`frequency` IS NULL ) ) ) ) THEN 2\n",
    "\t\tWHEN ( ( ( (datediff(concat(year(`dt_first_Invoice`),'-',month(`dt_first_Invoice`),'-',day(`dt_first_Invoice`)),concat(year(`dt_first_Invoice`),'-01-01')) + 1)  > 1.3e1 AND (datediff(concat(year(`dt_first_Invoice`),'-',month(`dt_first_Invoice`),'-',day(`dt_first_Invoice`)),concat(year(`dt_first_Invoice`),'-01-01')) + 1)  <= 6.7e1 ) OR  ( (datediff(concat(year(`dt_first_Invoice`),'-',month(`dt_first_Invoice`),'-',day(`dt_first_Invoice`)),concat(year(`dt_first_Invoice`),'-01-01')) + 1)  > 9.7e1 AND (datediff(concat(year(`dt_first_Invoice`),'-',month(`dt_first_Invoice`),'-',day(`dt_first_Invoice`)),concat(year(`dt_first_Invoice`),'-01-01')) + 1)  <= 1.61e2 ) OR  ( (datediff(concat(year(`dt_first_Invoice`),'-',month(`dt_first_Invoice`),'-',day(`dt_first_Invoice`)),concat(year(`dt_first_Invoice`),'-01-01')) + 1)  > 3.31e2 AND (datediff(concat(year(`dt_first_Invoice`),'-',month(`dt_first_Invoice`),'-',day(`dt_first_Invoice`)),concat(year(`dt_first_Invoice`),'-01-01')) + 1)  <= 3.37e2 ) ) AND ((abs(day(`dt_first_Invoice`) - 8.0e0) <= 10e-9) OR (abs(day(`dt_first_Invoice`) - 1.0e1) <= 10e-9) OR  ( day(`dt_first_Invoice`)  >= 1.1e1 AND day(`dt_first_Invoice`)  <= 1.2e1 ) OR (abs(day(`dt_first_Invoice`) - 1.3e1) <= 10e-9) OR (abs(day(`dt_first_Invoice`) - 1.4e1) <= 10e-9) OR (abs(day(`dt_first_Invoice`) - 1.5e1) <= 10e-9) OR (abs(day(`dt_first_Invoice`) - 1.6e1) <= 10e-9) OR  ( day(`dt_first_Invoice`)  >= 1.9e1 AND day(`dt_first_Invoice`)  <= 2.0e1 ) OR  ( day(`dt_first_Invoice`)  >= 2.1e1 AND day(`dt_first_Invoice`)  <= 2.5e1 ) OR  ( day(`dt_first_Invoice`)  >= 2.6e1 AND day(`dt_first_Invoice`)  <= 3.1e1 ) OR ( (`dt_first_Invoice` IS NULL ) ) ) AND ( ( `recency_dt`  >= 1.0e1 AND `recency_dt`  <= 1.2e1 ) OR  ( `recency_dt`  > 6.4e1 AND `recency_dt`  <= 3.25e2 ) OR ( (`recency_dt` IS NULL ) ) ) AND ((abs(month(`dt_last_Invoice`) - 2.0e0) <= 10e-9) OR (abs(month(`dt_last_Invoice`) - 5.0e0) <= 10e-9) OR (abs(month(`dt_last_Invoice`) - 6.0e0) <= 10e-9) OR (abs(month(`dt_last_Invoice`) - 7.0e0) <= 10e-9) OR (abs(month(`dt_last_Invoice`) - 8.0e0) <= 10e-9) OR (abs(month(`dt_last_Invoice`) - 9.0e0) <= 10e-9) OR (abs(month(`dt_last_Invoice`) - 1.1e1) <= 10e-9) OR ( (`dt_last_Invoice` IS NULL ) ) ) AND ( ( `CLV_SQL`  >= -2.3859999999999999e1 AND `CLV_SQL`  <= 2.7060000000000002e2 ) OR  ( `CLV_SQL`  > 2.8797000000000003e2 AND `CLV_SQL`  <= 3.0750999999999999e2 ) OR ( (`CLV_SQL` IS NULL ) ) ) ) THEN 8\n",
    "\t\tWHEN ( ((abs(month(`dt_last_Invoice`) - 3.0e0) <= 10e-9) OR (abs(month(`dt_last_Invoice`) - 4.0e0) <= 10e-9) OR (abs(month(`dt_last_Invoice`) - 5.0e0) <= 10e-9) OR (abs(month(`dt_last_Invoice`) - 6.0e0) <= 10e-9) OR (abs(month(`dt_last_Invoice`) - 7.0e0) <= 10e-9) OR (abs(month(`dt_last_Invoice`) - 8.0e0) <= 10e-9) OR (abs(month(`dt_last_Invoice`) - 9.0e0) <= 10e-9) ) AND ( ( `avg_revenue`  >= 1.0e0 AND `avg_revenue`  <= 2.1870000000000001e1 ) ) AND ((abs(day(`dt_first_Invoice`) - 9.0e0) <= 10e-9) OR (abs(day(`dt_first_Invoice`) - 1.0e1) <= 10e-9) OR  ( day(`dt_first_Invoice`)  >= 1.1e1 AND day(`dt_first_Invoice`)  <= 1.2e1 ) OR (abs(day(`dt_first_Invoice`) - 1.3e1) <= 10e-9) OR (abs(day(`dt_first_Invoice`) - 1.4e1) <= 10e-9) OR (abs(day(`dt_first_Invoice`) - 1.5e1) <= 10e-9) OR (abs(day(`dt_first_Invoice`) - 1.6e1) <= 10e-9) OR  ( day(`dt_first_Invoice`)  >= 1.9e1 AND day(`dt_first_Invoice`)  <= 2.0e1 ) OR  ( day(`dt_first_Invoice`)  >= 2.1e1 AND day(`dt_first_Invoice`)  <= 2.5e1 ) OR  ( day(`dt_first_Invoice`)  >= 2.6e1 AND day(`dt_first_Invoice`)  <= 3.1e1 ) OR ( (`dt_first_Invoice` IS NULL ) ) ) AND ((abs(`frequency` - 1.0e0) <= 10e-9) OR (abs(`frequency` - 2.0e0) <= 10e-9) ) ) THEN 7\n",
    "\t\tWHEN ( ( ( `recency_dt`  >= 3.0e0 AND `recency_dt`  <= 2.5e1 ) OR  ( `recency_dt`  > 3.1e1 AND `recency_dt`  <= 3.6e1 ) OR  ( `recency_dt`  > 3.25e2 AND `recency_dt`  <= 3.74e2 ) ) AND ((abs(`frequency` - 1.0e0) <= 10e-9) OR (abs(`frequency` - 2.0e0) <= 10e-9) OR (abs(`frequency` - 3.0e0) <= 10e-9) OR (abs(`frequency` - 4.0e0) <= 10e-9) OR (abs(`frequency` - 5.0e0) <= 10e-9) OR (abs(`frequency` - 6.0e0) <= 10e-9) OR ( (`frequency` IS NULL ) ) ) AND ( ( (datediff(concat(year(`dt_last_Invoice`),'-',month(`dt_last_Invoice`),'-',day(`dt_last_Invoice`)),concat(year(`dt_last_Invoice`),'-01-01')) + 1)  > 3.08e2 AND (datediff(concat(year(`dt_last_Invoice`),'-',month(`dt_last_Invoice`),'-',day(`dt_last_Invoice`)),concat(year(`dt_last_Invoice`),'-01-01')) + 1)  <= 3.4e2 ) OR  ( (datediff(concat(year(`dt_last_Invoice`),'-',month(`dt_last_Invoice`),'-',day(`dt_last_Invoice`)),concat(year(`dt_last_Invoice`),'-01-01')) + 1)  >= 3.41e2 AND (datediff(concat(year(`dt_last_Invoice`),'-',month(`dt_last_Invoice`),'-',day(`dt_last_Invoice`)),concat(year(`dt_last_Invoice`),'-01-01')) + 1)  <= 3.57e2 ) ) ) THEN 5\n",
    "\t\tWHEN ( ( ( (datediff(concat(year(`dt_last_Invoice`),'-',month(`dt_last_Invoice`),'-',day(`dt_last_Invoice`)),concat(year(`dt_last_Invoice`),'-01-01')) + 1)  >= 4.0e0 AND (datediff(concat(year(`dt_last_Invoice`),'-',month(`dt_last_Invoice`),'-',day(`dt_last_Invoice`)),concat(year(`dt_last_Invoice`),'-01-01')) + 1)  <= 3.19e2 ) OR ( (`dt_last_Invoice` IS NULL ) ) ) AND ( ( `CLV_SQL`  >= -2.3859999999999999e1 AND `CLV_SQL`  <= 3.8501999999999998e2 ) OR ( (`CLV_SQL` IS NULL ) ) ) AND ((abs(year(`dt_first_Invoice`) - 2.011e3) <= 10e-9) ) ) THEN 4\n",
    "\t\tELSE 11\n",
    "\t\tEND ) AS kc_monetary_value \n",
    "\t\tFROM TB_CLV_SDF\n",
    "\n",
    "\t\t\"\"\"\n",
    "\t\n",
    "\treturn text_sql_ml2"
   ]
  },
  {
   "cell_type": "code",
   "execution_count": 2,
   "id": "65023aea",
   "metadata": {},
   "outputs": [],
   "source": [
    "# ml_sql_prediction()"
   ]
  },
  {
   "cell_type": "code",
   "execution_count": 10,
   "id": "a6b7cdac",
   "metadata": {},
   "outputs": [
    {
     "name": "stdout",
     "output_type": "stream",
     "text": [
      "Calculation started (calculation_id=c2c38d12-b88d-4aa6-7031-af3533731feb) in (session=54c38d11-bc47-e5c7-19b9-cd14cdf24b9b). Checking calculation status...\n"
     ]
    },
    {
     "data": {
      "application/vnd.jupyter.widget-view+json": {
       "model_id": "e442faef87f24512932d541e039192c7",
       "version_major": 2,
       "version_minor": 0
      },
      "text/plain": [
       "Progress:   0%|          |elapsed time = 00:00s"
      ]
     },
     "metadata": {},
     "output_type": "display_data"
    },
    {
     "name": "stdout",
     "output_type": "stream",
     "text": [
      "Calculation completed.\n",
      "root\n",
      " |-- customer_id: double (nullable = true)\n",
      " |-- frequency: long (nullable = false)\n",
      " |-- recency_now: integer (nullable = true)\n",
      " |-- monetary_value: double (nullable = true)\n",
      " |-- avg_revenue: double (nullable = true)\n",
      " |-- dt_first_Invoice: timestamp (nullable = true)\n",
      " |-- dt_last_Invoice: timestamp (nullable = true)\n",
      " |-- recency_dt: float (nullable = true)\n",
      " |-- CLV_SQL: double (nullable = true)\n",
      " |-- CLV_UDF: float (nullable = true)\n",
      " |-- kc_monetary_value: integer (nullable = false)\n",
      "\n",
      "-RECORD 0--------------------------------\n",
      " customer_id       | 14646.0             \n",
      " frequency         | 51                  \n",
      " recency_now       | 4125                \n",
      " monetary_value    | 200541.0            \n",
      " avg_revenue       | 137.36              \n",
      " dt_first_Invoice  | 2010-12-20 10:09:00 \n",
      " dt_last_Invoice   | 2011-12-08 00:12:00 \n",
      " recency_dt        | 1.0                 \n",
      " CLV_SQL           | 3555.12             \n",
      " CLV_UDF           | 3555.12             \n",
      " kc_monetary_value | 9                   \n",
      "-RECORD 1--------------------------------\n",
      " customer_id       | 16446.0             \n",
      " frequency         | 2                   \n",
      " recency_now       | 4124                \n",
      " monetary_value    | 168472.49           \n",
      " avg_revenue       | 56157.5             \n",
      " dt_first_Invoice  | 2011-05-18 09:52:00 \n",
      " dt_last_Invoice   | 2011-12-09 09:15:00 \n",
      " recency_dt        | 0.0                 \n",
      " CLV_SQL           | 76368.6             \n",
      " CLV_UDF           | 76368.6             \n",
      " kc_monetary_value | 10                  \n",
      "-RECORD 2--------------------------------\n",
      " customer_id       | 17450.0             \n",
      " frequency         | 27                  \n",
      " recency_now       | 4134                \n",
      " monetary_value    | 121321.71           \n",
      " avg_revenue       | 588.94              \n",
      " dt_first_Invoice  | 2010-12-07 09:23:00 \n",
      " dt_last_Invoice   | 2011-11-29 09:56:00 \n",
      " recency_dt        | 10.0                \n",
      " CLV_SQL           | 3961.8              \n",
      " CLV_UDF           | 3961.8              \n",
      " kc_monetary_value | 9                   \n",
      "only showing top 3 rows\n",
      "\n"
     ]
    }
   ],
   "source": [
    "ml_spark = ml_sql_prediction()\n",
    "\n",
    "sdf_ml = spark.sql(ml_spark)\n",
    "\n",
    "sdf_ml.printSchema()\n",
    "# fhead(sdf_ml)\n",
    "sdf_ml.show(3, vertical=True)"
   ]
  },
  {
   "cell_type": "code",
   "execution_count": 11,
   "id": "a13e78fa",
   "metadata": {},
   "outputs": [
    {
     "name": "stdout",
     "output_type": "stream",
     "text": [
      "Calculation started (calculation_id=fec38d12-d1ad-f99f-cb56-b686a9f1d347) in (session=54c38d11-bc47-e5c7-19b9-cd14cdf24b9b). Checking calculation status...\n"
     ]
    },
    {
     "data": {
      "application/vnd.jupyter.widget-view+json": {
       "model_id": "e9e345ad779549159948f8b90641268c",
       "version_major": 2,
       "version_minor": 0
      },
      "text/plain": [
       "Progress:   0%|          |elapsed time = 00:00s"
      ]
     },
     "metadata": {},
     "output_type": "display_data"
    },
    {
     "name": "stdout",
     "output_type": "stream",
     "text": [
      "Calculation completed.\n",
      "   customer_id  frequency  ...       CLV_UDF  kc_monetary_value\n",
      "0      14646.0         51  ...   3555.120117                  9\n",
      "1      16446.0          2  ...  76368.601562                 10\n",
      "2      17450.0         27  ...   3961.800049                  9\n",
      "3      18102.0         30  ...   3362.270020                  9\n",
      "\n",
      "[4 rows x 11 columns]\n",
      "\n"
     ]
    }
   ],
   "source": [
    "fhead(sdf_ml,num_records=4)"
   ]
  },
  {
   "cell_type": "code",
   "execution_count": 3,
   "id": "4aaafc9d",
   "metadata": {},
   "outputs": [],
   "source": [
    "## Export as parquet file\n",
    "# sdf_ml.write.mode('overwrite').parquet(output_file)"
   ]
  },
  {
   "cell_type": "markdown",
   "id": "ca34fbd8",
   "metadata": {},
   "source": [
    "#### Plot and Report sample"
   ]
  },
  {
   "cell_type": "code",
   "execution_count": 12,
   "id": "b90c5a7d",
   "metadata": {},
   "outputs": [
    {
     "name": "stdout",
     "output_type": "stream",
     "text": [
      "Calculation started (calculation_id=78c38d12-eac9-f874-2363-3f42099781af) in (session=54c38d11-bc47-e5c7-19b9-cd14cdf24b9b). Checking calculation status...\n"
     ]
    },
    {
     "data": {
      "application/vnd.jupyter.widget-view+json": {
       "model_id": "e812fcd066e04b6992c4fdca0b47ab77",
       "version_major": 2,
       "version_minor": 0
      },
      "text/plain": [
       "Progress:   0%|          |elapsed time = 00:00s"
      ]
     },
     "metadata": {},
     "output_type": "display_data"
    },
    {
     "name": "stdout",
     "output_type": "stream",
     "text": [
      "Calculation completed.\n",
      "+--------------+--------------------+-------+------------------+\n",
      "|cluster_number|percent_of_customers|avg_clv|avg_monetary_value|\n",
      "+--------------+--------------------+-------+------------------+\n",
      "|             6|                1.41|1627.96|           6390.09|\n",
      "|            10|                4.78| 859.47|           2221.99|\n",
      "|             9|                3.88| 607.03|          15079.84|\n",
      "|             2|               10.07| 543.86|           1592.38|\n",
      "|             3|                5.45| 359.51|           3559.05|\n",
      "|             1|                8.47|  201.7|           1180.36|\n",
      "|             5|               14.02| 181.48|             579.6|\n",
      "|             4|               33.19| 156.01|            519.58|\n",
      "|             7|               10.07| 145.49|            342.34|\n",
      "|             8|                8.66|  126.8|            529.09|\n",
      "+--------------+--------------------+-------+------------------+\n",
      "\n"
     ]
    }
   ],
   "source": [
    "sdf_ml.createOrReplaceTempView('TB_CLV_SDF_ML')\n",
    "\n",
    "ml_rpt_sql = \"\"\"\n",
    "WITH TB_CLUSTER AS \n",
    "(\n",
    "    select kc_monetary_value as cluster_number\n",
    "    , count(distinct customer_id) as customer_count\n",
    "    , avg(clv_sql) avg_clv\n",
    "    , avg(monetary_value) avg_monetary_value\n",
    "    -- , count(*) as qty_records\n",
    "    FROM TB_CLV_SDF_ML\n",
    "    group by kc_monetary_value\n",
    ")\n",
    "SELECT cluster_number\n",
    "--    , customer_count\n",
    "    , ROUND( customer_count / (select sum(customer_count) from TB_CLUSTER ) * 100, 2) as percent_of_customers\n",
    "    , ROUND( avg_clv, 2) as avg_clv\n",
    "    , ROUND( avg_monetary_value, 2) as avg_monetary_value\n",
    "FROM TB_CLUSTER tb1\n",
    "order by avg_clv desc\n",
    "\"\"\"\n",
    "\n",
    "sdf_ml_rpt = spark.sql(ml_rpt_sql) \n",
    "# sdf_ml_rpt.printSchema()\n",
    "sdf_ml_rpt.show()"
   ]
  },
  {
   "cell_type": "markdown",
   "id": "ea98e1ea",
   "metadata": {},
   "source": [
    "#### Plot"
   ]
  },
  {
   "cell_type": "code",
   "execution_count": 4,
   "id": "e15333ec",
   "metadata": {},
   "outputs": [],
   "source": [
    "# sdf_ml_rpt.pandas_api().plot.scatter(x='avg_monetary_value', y='avg_clv', size='percent_of_customers',\n",
    "#                                      title='Customer value_clv vs Monetary value (FRM -frequency, recency, monetary value)',\n",
    "#                                      color='cluster_number')"
   ]
  },
  {
   "cell_type": "markdown",
   "id": "b0022ef8",
   "metadata": {},
   "source": [
    "### Optimization in Spark - considerations\n",
    "\n",
    "<b> Spark 1.x </b> : Catalyst Optimizer and Tungsten Project (CPU, cache and memoery efficiency, eliminating the overhead of JVM objects and garbage collection)\n",
    "    \n",
    "<b> Spark 2.x </b> : Cost-Based Optimizer (CBO) to improve queries with multiple joins, using table statistics to determine the most efficient query execution plan\n",
    "    \n",
    "<b> Spark 3.x </b> : Adaptive Query Execution (AQE) is an optimization technique in Spark SQL that use runtime statistics to choose the most eficient query execution plan, which is enabled by default since Apache Spark 3.2.0\n",
    "- https://spark.apache.org/docs/latest/sql-performance-tuning.html\n",
    "\n",
    "- three major features in AQE: including coalescing post-shuffle partitions, converting sort-merge join to broadcast join, and skew join optimization\n",
    "\n",
    "#### This notebook use Spark 3.x and Adaptive Query Execution (AQE) "
   ]
  },
  {
   "cell_type": "code",
   "execution_count": 2,
   "id": "4ac37394",
   "metadata": {},
   "outputs": [],
   "source": [
    "# !jupyter nbconvert --to html Customer_Value_demo__using_Athena-Spark-Job_v1_20230325.ipynb"
   ]
  },
  {
   "cell_type": "code",
   "execution_count": null,
   "id": "0d09f4d0",
   "metadata": {},
   "outputs": [],
   "source": []
  }
 ],
 "metadata": {
  "kernelspec": {
   "display_name": "Python 3 (ipykernel)",
   "language": "python",
   "name": "python3"
  },
  "language_info": {
   "codemirror_mode": {
    "name": "ipython",
    "version": 3
   },
   "file_extension": ".py",
   "mimetype": "text/x-python",
   "name": "python",
   "nbconvert_exporter": "python",
   "pygments_lexer": "ipython3",
   "version": "3.9.13"
  }
 },
 "nbformat": 4,
 "nbformat_minor": 5
}
